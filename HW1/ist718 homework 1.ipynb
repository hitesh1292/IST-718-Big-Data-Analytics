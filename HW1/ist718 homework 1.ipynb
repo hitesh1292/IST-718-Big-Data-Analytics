{
 "cells": [
  {
   "cell_type": "markdown",
   "metadata": {},
   "source": [
    "##### Grading Feedback Cell\n",
    "97%"
   ]
  },
  {
   "cell_type": "markdown",
   "metadata": {
    "deletable": false,
    "nbgrader": {
     "checksum": "4e6cefb0049d48a2f4648d752841bb06",
     "grade": false,
     "grade_id": "cell-b038e38b5e3072a9",
     "locked": false,
     "schema_version": 1,
     "solution": false
    }
   },
   "source": [
    "# IST 718: Big Data Analytics\n",
    "\n",
    "- Professor: Willard Williamson <wewillia@syr.edu>\n",
    "- Faculty Assistant: Yash Pasar\n",
    "## General instructions:\n",
    "\n",
    "- You are welcome to discuss the problems with your classmates but __you are not allowed to copy any part of your answers from your classmates.  Short code snippets are allowed from the internet.  Code from the class text books or class provided code can be copied in its entirety.__\n",
    "- __Do not change homework file names.__ The FAs and the professor use these names to grade your homework.  Changing file names may result in a point reduction penalty.\n",
    "- There could be tests in some cells (i.e., `assert` and `np.testing.` statements). These tests (if present) are used to grade your answers. **However, the professor and FAs could use __additional__ test for your answer. Think about cases where your code should run even if it passess all the tests you see.**\n",
    "- Before submitting your work, remember to check for run time errors with the following procedure:\n",
    "`Kernel`$\\rightarrow$`Restart and Run All`.  All runtime errors will result in a minimum penalty of half off.\n",
    "- Data Bricks is the official class runtime environment so you should test your code on Data Bricks before submission.  If there is a runtime problem in the grading environment, we will try your code on Data Bricks before making a final grading decision.\n",
    "- All plots shall include a title, and axis labels.\n",
    "- Grading feedback cells are there for graders to provide feedback to students.  Don't change or remove grading feedback cells."
   ]
  },
  {
   "cell_type": "code",
   "execution_count": 1,
   "metadata": {},
   "outputs": [],
   "source": [
    "# import all needed packages in this cell\n",
    "import numpy as np\n",
    "import pandas as pd\n",
    "import matplotlib.pyplot as plt\n",
    "import math\n",
    "import random"
   ]
  },
  {
   "cell_type": "markdown",
   "metadata": {},
   "source": [
    "**Question 1 (10 pts)** Write a function named reverse_by_three that receives a numpy array, python list, or tuple as an input argument and starting at the 2nd from last element, returns every 3rd element of the list in reverse order.  It is legal to return an empty python list, numpy array, or tuple if the input.  Use slicing syntax exclusively to perform the operations.  Your code should be efficient as possible and not use a lot of extraneous un-needed code in the solution."
   ]
  },
  {
   "cell_type": "code",
   "execution_count": 2,
   "metadata": {
    "deletable": false,
    "nbgrader": {
     "checksum": "085f5b48fbce649d8e6a5f12381f40ce",
     "grade": false,
     "grade_id": "cell-5eb87107d2800505",
     "locked": false,
     "schema_version": 1,
     "solution": true
    }
   },
   "outputs": [],
   "source": [
    "# Create the function reverse_by_three here\n",
    "def reverse_by_three(input): # Defining the function to reverse the numpy array or list or tuple passed\n",
    "    arr = input[-2::-3] # Returns every 3rd element in reverse order starting from 2nd element from the last\n",
    "    return arr"
   ]
  },
  {
   "cell_type": "code",
   "execution_count": 3,
   "metadata": {
    "deletable": false,
    "editable": false,
    "nbgrader": {
     "checksum": "da34aac4c035b267f3ff5816fd031fba",
     "grade": true,
     "grade_id": "cell-17c0ac01cace4b18",
     "locked": true,
     "points": 10,
     "schema_version": 1,
     "solution": false
    }
   },
   "outputs": [
    {
     "data": {
      "text/plain": [
       "array([5, 2])"
      ]
     },
     "execution_count": 3,
     "metadata": {},
     "output_type": "execute_result"
    }
   ],
   "source": [
    "# For grading use only (question 1)\n",
    "reverse_by_three(np.array([1,2,3,4,5,6]))"
   ]
  },
  {
   "cell_type": "markdown",
   "metadata": {},
   "source": [
    "##### Grading Feedback Cell"
   ]
  },
  {
   "cell_type": "markdown",
   "metadata": {},
   "source": [
    "**Question 2 (10 pts)** Create a python class named my_statistics.  The my_statisitics class should require a single numpy array argument in its constructor.  Implement the following statistical methods in the my_statistics class: get_mean, get_pop_std, get_sample_std, get_min, and get_max.  The get_pop_std method shall return the standard deviation assuming the constructor argument is a complete population.  The get_sample_std method shall return the standard deviation assuming that the constructor argument is a sample of a population.  The get_min and get_max methods shall return the min and max of the constructor argument respectively.  The get_mean method shall return the mean.  Return a 'None' type if the constructor argument would cause an error for the specified operation.  Use numpy functions to perform the statistical calculations."
   ]
  },
  {
   "cell_type": "code",
   "execution_count": 4,
   "metadata": {
    "deletable": false,
    "nbgrader": {
     "checksum": "93c89a396ab6aa6ace9fe98663691b74",
     "grade": false,
     "grade_id": "cell-48471c8515aa4e5c",
     "locked": false,
     "schema_version": 1,
     "solution": true
    }
   },
   "outputs": [],
   "source": [
    "# create the my_statistics class here\n",
    "# YOUR CODE HERE\n",
    "class my_statistics: # Defining the class my_statistics\n",
    "    def __init__(self,arra): # Defining constructor and passing the parameter as numpy array in it\n",
    "        self.arra=np.array([arra]) # Defining that the passed parameter is numpy array\n",
    "        \n",
    "    def get_mean(self): # get_mean function to calculate mean of the numpy array passed as an argument in the constructor\n",
    "        return np.mean(self.arra) # return the mean of numpy array using np.mean method\n",
    "    \n",
    "    def get_pop_std(self): # get_pop_std function to calculate standard deviation of the numpy array passed as an argument in the constructor\n",
    "        return np.std(self.arra) # return the standard deviation of numpy array using np.std method assuming it to be population\n",
    "    \n",
    "    def get_sample_std(self): # get_sample_std function to calculate standard deviation of the numpy array passed as an argument in the constructor \n",
    "        return np.std(self.arra,ddof=1) # return standard deviation of numpy array using np.std assuming it to be a sample not population using ddof=1 parameter\n",
    "    \n",
    "    def get_min(self): # get_min function to calculate minimum of the numpy array passed as an argument in the constructor\n",
    "        return np.min(self.arra) # return the minimum of numpy array using np.min method\n",
    "    \n",
    "    def get_max(self): # get_max function to calculate maximum of the numpy array passed as an argument in the constructor\n",
    "        return np.max(self.arra) # return the maximum of numpy array using np.max method"
   ]
  },
  {
   "cell_type": "code",
   "execution_count": 5,
   "metadata": {
    "deletable": false,
    "nbgrader": {
     "checksum": "da34aac4c035b267f3ff5816fd031fba",
     "grade": true,
     "grade_id": "cell-17c0ac01cace4b18",
     "locked": true,
     "points": 10,
     "schema_version": 1,
     "solution": false
    }
   },
   "outputs": [
    {
     "name": "stdout",
     "output_type": "stream",
     "text": [
      "-6.066666666666666\n",
      "85.59086140211205\n",
      "88.59495847206355\n",
      "-310\n",
      "99\n"
     ]
    }
   ],
   "source": [
    "# For grading use only (question 2)\n",
    "stats_data = np.array([12, 17, 9, 13, -5, -7, -9, -11, 39, 42, 17, 2, 99, 1, -310])\n",
    "my_stats = my_statistics(stats_data)\n",
    "print(my_stats.get_mean())\n",
    "print(my_stats.get_pop_std())\n",
    "print(my_stats.get_sample_std())\n",
    "print(my_stats.get_min())\n",
    "print(my_stats.get_max())"
   ]
  },
  {
   "cell_type": "markdown",
   "metadata": {},
   "source": [
    "##### Grading Feedback Cell"
   ]
  },
  {
   "cell_type": "markdown",
   "metadata": {},
   "source": [
    "**Question 3 (30 pts)** Create a function named monte_hall that takes as an argument the number of times to iterate a monte-carlo simulation of the Monte Hall problem with 4 doors and 1 prize.   (https://en.wikipedia.org/wiki/Monty_Hall_problem).   \n",
    "For simplicity, you can assume that the game player always initially chooses door A and the host will open one door.  The prize may be behind any of the 4 doors.  The monte_hall function should print answers to the following 2 questions:  Based on the simulation, what is the probability of winning if you switch doors, and what is the probability of winning if you keep door A?  Your function should return these values in a tuple (prob_win_if_switch, prob_win_if_keep)."
   ]
  },
  {
   "cell_type": "code",
   "execution_count": 6,
   "metadata": {},
   "outputs": [],
   "source": [
    "# monte_hall function here\n",
    "def monte_hall(n): # Defining function monte_hall with argument n for number of iterations to perform operation\n",
    "    winner_stay=0\n",
    "    winner_switch=0\n",
    "    for i in range(n): # For number of iterations to run the function\n",
    "        \n",
    "        Vacation = [0,0,1,0] # Prize list where 1 is prize and 0 are Goat\n",
    "        \n",
    "        random.shuffle(Vacation) # Randomly shuffling the Prizes\n",
    "        \n",
    "        doors = [i for i in range(len(Vacation))] # Doors created behind which prizes are there \n",
    "        \n",
    "        winning_choice= Vacation.index(1) # Getting the winning prize (Index of 1 value of Vacation list)\n",
    "        winning_choice\n",
    "        \n",
    "        first_choice = 0 # First choice of Player Gate A\n",
    "        \n",
    "        lst = [] # Empty List for storing doors to be excluded \n",
    "        \n",
    "        lst.extend([first_choice,winning_choice]) # List appended with indexes of first choice and winning prize\n",
    "        \n",
    "        for i in range(len(lst)-1): # Checking if the list has same index(same index if first_choice == winning choice)\n",
    "            \n",
    "            if lst[i] == lst[i+1]: # If 2 same indexes use only 1\n",
    "                \n",
    "                lst = list([(lst[i])])\n",
    "            else:\n",
    "                \n",
    "                lst = [(lst[i]),(lst[i+1])] # If 2 different indexes for win and first choice keep them in list lst\n",
    "            \n",
    "            eliminated_doors = [] # Empty list for storing the doors which are not to be opened\n",
    "            \n",
    "        for i in range(len(lst)): # Eliminated doors list with doors which are not to be opened now(first_choice & Win)\n",
    "            \n",
    "            eliminated_doors.append(doors[lst[i]])\n",
    "\n",
    "            eliminated_doors\n",
    "            \n",
    "            available_doors =  list(set(doors) - set(eliminated_doors)) # Removing eliminated doors from all 4 doors created \n",
    "            available_doors # These are doors which can be used to open the 1st door behind which no prize is present after removing first and win option door\n",
    "        \n",
    "            open_door = random.choice(available_doors) # Opening the door randomly 1st time \n",
    "        \n",
    "         # Winner_stay for stay with first choice count\n",
    "        if winning_choice == first_choice: # Checking if first_choice is same as win if yes increment the count of variable\n",
    "            \n",
    "            winner_stay+=1\n",
    "            \n",
    "        \n",
    "        # Creating final doors list for option when the player wants to switch the door \n",
    "        switch_final_options = list(set(doors) - set(list([open_door])) - set(list([first_choice])))\n",
    "        switch_final_options # From total doors removing 1st opened door and the user's 1st choice\n",
    "        \n",
    "        switch_open_door = random.choice(switch_final_options) # Randomly selecting door after switch the first door player selected\n",
    "        \n",
    "         # Winner_switch for switching the first choice \n",
    "        if winning_choice == switch_open_door: # Checking if the switched door has prize if yes increment the variable to display count\n",
    "            \n",
    "            winner_switch+=1 # Winner_switch incremented if winning matches this switched door option\n",
    "         \n",
    "    \n",
    "        \n",
    "    print(\"Number of iterations of monte_hall: {}\".format(n)) # Print number of iterations of monte_hall function\n",
    "    \n",
    "    print(\"Winning on switching doors: number = {}  probability = {}\".format(winner_switch,(winner_switch/n))) # Print number of times win by switching and probability when switched doors\n",
    "    \n",
    "    print(\"Winning on staying with first choice: number = {} probability =  {}\".format(winner_stay,(winner_stay/n))) # Print number of times win by not switching and probability when won by first_choice door\n",
    "    \n",
    "    return((winner_switch/n),(winner_stay/n)) # Tuple giving probability of switching and not switching separated by comma"
   ]
  },
  {
   "cell_type": "code",
   "execution_count": 7,
   "metadata": {
    "deletable": false,
    "editable": false,
    "nbgrader": {
     "checksum": "2d488b9ce0d64d863d724afc6ca32625",
     "grade": false,
     "grade_id": "cell-8804dcdb0db3c1bb",
     "locked": false,
     "schema_version": 1,
     "solution": true
    }
   },
   "outputs": [
    {
     "name": "stdout",
     "output_type": "stream",
     "text": [
      "Number of iterations of monte_hall: 10000\n",
      "Winning on switching doors: number = 3690  probability = 0.369\n",
      "Winning on staying with first choice: number = 2474 probability =  0.2474\n",
      "(0.369, 0.2474)\n"
     ]
    }
   ],
   "source": [
    "# For grading use only (question 3)\n",
    "print(monte_hall(10000))"
   ]
  },
  {
   "cell_type": "markdown",
   "metadata": {},
   "source": [
    "##### Grading Feedback Cell"
   ]
  },
  {
   "cell_type": "markdown",
   "metadata": {},
   "source": [
    "##### **Question 4 (10 pts)** Create a numpy array containing 10,000 samples of random normal data with a mean of 5 and a variance of 4.  Plot a histogram of the data using matplotlib."
   ]
  },
  {
   "cell_type": "code",
   "execution_count": 8,
   "metadata": {},
   "outputs": [
    {
     "data": {
      "text/plain": [
       "array([-0.0864213 ,  5.58081151,  6.6710773 , ...,  4.17367936,\n",
       "        6.67590817,  8.11882058])"
      ]
     },
     "execution_count": 8,
     "metadata": {},
     "output_type": "execute_result"
    }
   ],
   "source": [
    "# your histogram plot code here\n",
    "x=np.random.normal(loc=5,scale=2,size=10000)  # random.normal takes (mean,standard deviation and number of values to be used)\n",
    "x \n"
   ]
  },
  {
   "cell_type": "code",
   "execution_count": 9,
   "metadata": {},
   "outputs": [
    {
     "data": {
      "text/plain": [
       "Text(0.5, 1.0, 'Histogram plot of 10000 normal values')"
      ]
     },
     "execution_count": 9,
     "metadata": {},
     "output_type": "execute_result"
    },
    {
     "data": {
      "image/png": "[encoded data removed]",
      "text/plain": [
       "<Figure size 432x288 with 1 Axes>"
      ]
     },
     "metadata": {
      "needs_background": "light"
     },
     "output_type": "display_data"
    }
   ],
   "source": [
    "plt.hist(x,bins='auto',color='blue',alpha=0.9,rwidth=0.75) # Plotting the histogram of random sample of size 10000, color of bars blue, aplha governs the brightness and rwidth is distance between individual bars\n",
    "plt.xlabel('Random Values') # Giving x axis label for histogram\n",
    "plt.ylabel('Frequency of values') # Giving y axis label for histogram\n",
    "plt.title('Histogram plot of 10000 normal values') # Giving the title for the histogram"
   ]
  },
  {
   "cell_type": "markdown",
   "metadata": {},
   "source": [
    "##### Grading Feedback Cell"
   ]
  },
  {
   "cell_type": "markdown",
   "metadata": {},
   "source": [
    "#### Question 5 (10 pts) The below cell creates a pandas dataframe called iris_df.  Write a function named plot_iris_grid that uses matplotlib to create a grid of 16 scatter plots of all combinatations of the columns in the iris_df data frame.  For example, the first row should be sepal len vs sepal len, sepal len vs sepal width, sepal len vs petal len, sepal len vs petal width."
   ]
  },
  {
   "cell_type": "code",
   "execution_count": 13,
   "metadata": {
    "nbgrader": {
     "checksum": "e943372f6c350987929750bb43e37729",
     "grade": true,
     "grade_id": "cell-fc6a0f4ea3e7d63d",
     "locked": true,
     "points": 10,
     "schema_version": 1,
     "solution": false
    }
   },
   "outputs": [],
   "source": [
    "# plot_iris_grid code here\n",
    "\n",
    "from sklearn.datasets import load_iris\n",
    "\n",
    "# plot_iris_grid code here\n",
    "iris = load_iris()\n",
    "iris_df = pd.DataFrame(iris.data, columns=iris.feature_names)\n",
    "\n",
    "iris_df=iris_df.iloc[:,0:4] # Selecting only the 1st 4 columns for which scatter plots are to be created\n",
    "\n",
    "def iris_grid_plot(): # Creation of function to plot scatter plot\n",
    "    fig,ax= plt.subplots(4,4,figsize=(20,20)) # Defining grid size 4*4 for creating 16 scatter plots in a single grid\n",
    "    for x in range(len(iris_df.columns)): # Outer For loop to iterate for each each column with itself and others\n",
    "        for y in range(len(iris_df.columns)): # Inner for loop to iterate for each column by taking 1 column at a time from outer loop\n",
    "            p = iris_df.iloc[:,iris_df.index[x]] # Taking the column values for outer loop column\n",
    "            q = iris_df.iloc[:,iris_df.index[y]] # Taking values of column for inner loop \n",
    "            ax[x,y].scatter(p,q)  # Plotting scatter plot for x and y\n",
    "            ax[x,y].set(xlabel=(iris_df.columns[y])) # Giving x axis label of particular column\n",
    "            ax[x,y].set(ylabel=(iris_df.columns[x])) # Giving y axis label of particular column\n",
    "            \n"
   ]
  },
  {
   "cell_type": "code",
   "execution_count": 14,
   "metadata": {},
   "outputs": [
    {
     "data": {
      "image/png": "[encoded data removed]",
      "text/plain": [
       "<Figure size 1440x1440 with 16 Axes>"
      ]
     },
     "metadata": {
      "needs_background": "light"
     },
     "output_type": "display_data"
    }
   ],
   "source": [
    "iris_grid_plot()  # Calling the function to plot grid of 16 scatter plots"
   ]
  },
  {
   "cell_type": "markdown",
   "metadata": {},
   "source": [
    "##### Grading Feedback Cell\n",
    "No title: -3"
   ]
  },
  {
   "cell_type": "markdown",
   "metadata": {},
   "source": [
    "#### Question 6 (20 pts) Pandas"
   ]
  },
  {
   "cell_type": "markdown",
   "metadata": {},
   "source": [
    "6a (4 pts): Read the supplied potholes_2016.csv file into a pandas dataframe named potholes.  Save the shape of the potholes dataframe in a variable named potholes_shape.  Display the potholes_shape variable.  Display the head of the potholes dataframe.  "
   ]
  },
  {
   "cell_type": "code",
   "execution_count": 16,
   "metadata": {},
   "outputs": [
    {
     "data": {
      "text/plain": [
       "(7488, 10)"
      ]
     },
     "execution_count": 16,
     "metadata": {},
     "output_type": "execute_result"
    }
   ],
   "source": [
    "# Create potholes dataframe, potholes_shape variables here\n",
    "poth = pd.read_csv('potholes_2016.csv') # Reading csv file into poth dataframe\n",
    "\n",
    "potholes_shape = poth.shape\n",
    "\n",
    "potholes_shape\n"
   ]
  },
  {
   "cell_type": "code",
   "execution_count": 17,
   "metadata": {},
   "outputs": [
    {
     "data": {
      "text/html": [
       "<div>\n",
       "<style scoped>\n",
       "    .dataframe tbody tr th:only-of-type {\n",
       "        vertical-align: middle;\n",
       "    }\n",
       "\n",
       "    .dataframe tbody tr th {\n",
       "        vertical-align: top;\n",
       "    }\n",
       "\n",
       "    .dataframe thead th {\n",
       "        text-align: right;\n",
       "    }\n",
       "</style>\n",
       "<table border=\"1\" class=\"dataframe\">\n",
       "  <thead>\n",
       "    <tr style=\"text-align: right;\">\n",
       "      <th></th>\n",
       "      <th>StreetNumber</th>\n",
       "      <th>StreetName</th>\n",
       "      <th>StreetNamePostType</th>\n",
       "      <th>Directional</th>\n",
       "      <th>strLocation</th>\n",
       "      <th>dtTime</th>\n",
       "      <th>streetID</th>\n",
       "      <th>VehicleName</th>\n",
       "      <th>Latitude</th>\n",
       "      <th>Longitude</th>\n",
       "    </tr>\n",
       "  </thead>\n",
       "  <tbody>\n",
       "    <tr>\n",
       "      <td>0</td>\n",
       "      <td>215</td>\n",
       "      <td>COMSTOCK</td>\n",
       "      <td>AVE</td>\n",
       "      <td></td>\n",
       "      <td>215 COMSTOCK AVE &amp; HARRISON S</td>\n",
       "      <td>4/14/2016 8:57</td>\n",
       "      <td>12578124</td>\n",
       "      <td>DP2</td>\n",
       "      <td>-76.130140</td>\n",
       "      <td>43.044159</td>\n",
       "    </tr>\n",
       "    <tr>\n",
       "      <td>1</td>\n",
       "      <td>700</td>\n",
       "      <td>MIDLAND</td>\n",
       "      <td>AVE</td>\n",
       "      <td></td>\n",
       "      <td>700-06 MIDLAND AVE &amp; CASTLE ST W</td>\n",
       "      <td>4/15/2016 9:01</td>\n",
       "      <td>12573231</td>\n",
       "      <td>DP1</td>\n",
       "      <td>-76.154074</td>\n",
       "      <td>43.031314</td>\n",
       "    </tr>\n",
       "    <tr>\n",
       "      <td>2</td>\n",
       "      <td>1604</td>\n",
       "      <td>GRANT</td>\n",
       "      <td>BLVD</td>\n",
       "      <td></td>\n",
       "      <td>1604-08 GRANT BLVD &amp; WOODRUFF AVE</td>\n",
       "      <td>4/15/2016 13:03</td>\n",
       "      <td>12580306</td>\n",
       "      <td>DP1</td>\n",
       "      <td>-76.138284</td>\n",
       "      <td>43.072356</td>\n",
       "    </tr>\n",
       "    <tr>\n",
       "      <td>3</td>\n",
       "      <td>261</td>\n",
       "      <td>HOPPER</td>\n",
       "      <td>RD</td>\n",
       "      <td></td>\n",
       "      <td>261 HOPPER RD</td>\n",
       "      <td>4/18/2016 10:39</td>\n",
       "      <td>12571704</td>\n",
       "      <td>DP2</td>\n",
       "      <td>-76.159681</td>\n",
       "      <td>42.998028</td>\n",
       "    </tr>\n",
       "    <tr>\n",
       "      <td>4</td>\n",
       "      <td>1821</td>\n",
       "      <td>VALLEY</td>\n",
       "      <td>DR</td>\n",
       "      <td></td>\n",
       "      <td>1821 VALLEY DR &amp; CHAFFEE AVE E</td>\n",
       "      <td>4/18/2016 10:52</td>\n",
       "      <td>12571710</td>\n",
       "      <td>DP2</td>\n",
       "      <td>-76.152482</td>\n",
       "      <td>42.997837</td>\n",
       "    </tr>\n",
       "  </tbody>\n",
       "</table>\n",
       "</div>"
      ],
      "text/plain": [
       "  StreetNumber StreetName StreetNamePostType Directional  \\\n",
       "0          215  COMSTOCK                 AVE               \n",
       "1          700   MIDLAND                 AVE               \n",
       "2         1604     GRANT                BLVD               \n",
       "3          261    HOPPER                  RD               \n",
       "4         1821    VALLEY                  DR               \n",
       "\n",
       "                         strLocation           dtTime  streetID VehicleName  \\\n",
       "0      215 COMSTOCK AVE & HARRISON S   4/14/2016 8:57  12578124         DP2   \n",
       "1   700-06 MIDLAND AVE & CASTLE ST W   4/15/2016 9:01  12573231         DP1   \n",
       "2  1604-08 GRANT BLVD & WOODRUFF AVE  4/15/2016 13:03  12580306         DP1   \n",
       "3                      261 HOPPER RD  4/18/2016 10:39  12571704         DP2   \n",
       "4     1821 VALLEY DR & CHAFFEE AVE E  4/18/2016 10:52  12571710         DP2   \n",
       "\n",
       "    Latitude  Longitude  \n",
       "0 -76.130140  43.044159  \n",
       "1 -76.154074  43.031314  \n",
       "2 -76.138284  43.072356  \n",
       "3 -76.159681  42.998028  \n",
       "4 -76.152482  42.997837  "
      ]
     },
     "execution_count": 17,
     "metadata": {},
     "output_type": "execute_result"
    }
   ],
   "source": [
    "poth.head() # head function to display top 5 rows of potholes dataframe"
   ]
  },
  {
   "cell_type": "code",
   "execution_count": 18,
   "metadata": {
    "deletable": false,
    "editable": false,
    "nbgrader": {
     "checksum": "da34aac4c035b267f3ff5816fd031fba",
     "grade": true,
     "grade_id": "cell-17c0ac01cace4b18",
     "locked": true,
     "points": 10,
     "schema_version": 1,
     "solution": false
    }
   },
   "outputs": [],
   "source": [
    "# for grading use only (question 6a)\n"
   ]
  },
  {
   "cell_type": "markdown",
   "metadata": {},
   "source": [
    "##### Grading Feedback Cell"
   ]
  },
  {
   "cell_type": "markdown",
   "metadata": {},
   "source": [
    "6b (4 pts): Count the total number of NAN values in the potholes dataframe and store in a variable named total_nan.  Print the total_nan variable."
   ]
  },
  {
   "cell_type": "code",
   "execution_count": 19,
   "metadata": {},
   "outputs": [
    {
     "data": {
      "text/plain": [
       "0"
      ]
     },
     "execution_count": 19,
     "metadata": {},
     "output_type": "execute_result"
    }
   ],
   "source": [
    "# Your nan count code here\n",
    "total_nan = poth.isnull().sum().sum() # Finding Nan in the pandas dataframe\n",
    "total_nan"
   ]
  },
  {
   "cell_type": "code",
   "execution_count": 20,
   "metadata": {
    "deletable": false,
    "editable": false,
    "nbgrader": {
     "checksum": "da34aac4c035b267f3ff5816fd031fba",
     "grade": true,
     "grade_id": "cell-17c0ac01cace4b18",
     "locked": true,
     "points": 10,
     "schema_version": 1,
     "solution": false
    }
   },
   "outputs": [],
   "source": [
    "# for grading use only (question 6b)\n"
   ]
  },
  {
   "cell_type": "markdown",
   "metadata": {},
   "source": [
    "##### Grading Feedback Cell"
   ]
  },
  {
   "cell_type": "markdown",
   "metadata": {},
   "source": [
    "6c (4 pts): Count the number of unique street names in the dataframe and store in a variable named unique_street_name_count.  Print unique_street_name_count."
   ]
  },
  {
   "cell_type": "code",
   "execution_count": 21,
   "metadata": {},
   "outputs": [
    {
     "data": {
      "text/plain": [
       "413"
      ]
     },
     "execution_count": 21,
     "metadata": {},
     "output_type": "execute_result"
    }
   ],
   "source": [
    "# your unique street name count here\n",
    "unique_street_name_count = poth['StreetName'].nunique() # Counting each unique street name \n",
    "unique_street_name_count"
   ]
  },
  {
   "cell_type": "code",
   "execution_count": 22,
   "metadata": {
    "deletable": false,
    "editable": false,
    "nbgrader": {
     "checksum": "da34aac4c035b267f3ff5816fd031fba",
     "grade": true,
     "grade_id": "cell-17c0ac01cace4b18",
     "locked": true,
     "points": 10,
     "schema_version": 1,
     "solution": false
    }
   },
   "outputs": [],
   "source": [
    "# for grading use only (question 6c)"
   ]
  },
  {
   "cell_type": "markdown",
   "metadata": {},
   "source": [
    "##### Grading Feedback Cell"
   ]
  },
  {
   "cell_type": "markdown",
   "metadata": {},
   "source": [
    "6d (4 pts): Use the pandas groupby feature to create a new dataframe called street_pothole_sum which summarizes the total number of potholes by street.  You are essentially counting the number of rows by street name.  The rows of street_pothole_sum should be the labeled with street name.  There should be a single column in street_pothole_sum dataframe named num_potholes.  Print the head and shape of the street_pothole_sum dataframe."
   ]
  },
  {
   "cell_type": "code",
   "execution_count": 23,
   "metadata": {
    "scrolled": true
   },
   "outputs": [
    {
     "data": {
      "text/html": [
       "<div>\n",
       "<style scoped>\n",
       "    .dataframe tbody tr th:only-of-type {\n",
       "        vertical-align: middle;\n",
       "    }\n",
       "\n",
       "    .dataframe tbody tr th {\n",
       "        vertical-align: top;\n",
       "    }\n",
       "\n",
       "    .dataframe thead th {\n",
       "        text-align: right;\n",
       "    }\n",
       "</style>\n",
       "<table border=\"1\" class=\"dataframe\">\n",
       "  <thead>\n",
       "    <tr style=\"text-align: right;\">\n",
       "      <th></th>\n",
       "      <th>num_potholes</th>\n",
       "    </tr>\n",
       "    <tr>\n",
       "      <th>StreetName</th>\n",
       "      <th></th>\n",
       "    </tr>\n",
       "  </thead>\n",
       "  <tbody>\n",
       "    <tr>\n",
       "      <td>ACADEMY</td>\n",
       "      <td>76</td>\n",
       "    </tr>\n",
       "    <tr>\n",
       "      <td>ACKERMAN</td>\n",
       "      <td>5</td>\n",
       "    </tr>\n",
       "    <tr>\n",
       "      <td>ADAMS</td>\n",
       "      <td>17</td>\n",
       "    </tr>\n",
       "    <tr>\n",
       "      <td>AINSLEY</td>\n",
       "      <td>7</td>\n",
       "    </tr>\n",
       "    <tr>\n",
       "      <td>ALANSON</td>\n",
       "      <td>4</td>\n",
       "    </tr>\n",
       "    <tr>\n",
       "      <td>...</td>\n",
       "      <td>...</td>\n",
       "    </tr>\n",
       "    <tr>\n",
       "      <td>WINKWORTH</td>\n",
       "      <td>21</td>\n",
       "    </tr>\n",
       "    <tr>\n",
       "      <td>WOLCOTT</td>\n",
       "      <td>2</td>\n",
       "    </tr>\n",
       "    <tr>\n",
       "      <td>WOLF</td>\n",
       "      <td>3</td>\n",
       "    </tr>\n",
       "    <tr>\n",
       "      <td>WOODBINE</td>\n",
       "      <td>1</td>\n",
       "    </tr>\n",
       "    <tr>\n",
       "      <td>WOODRUFF</td>\n",
       "      <td>30</td>\n",
       "    </tr>\n",
       "  </tbody>\n",
       "</table>\n",
       "<p>413 rows × 1 columns</p>\n",
       "</div>"
      ],
      "text/plain": [
       "            num_potholes\n",
       "StreetName              \n",
       "ACADEMY               76\n",
       "ACKERMAN               5\n",
       "ADAMS                 17\n",
       "AINSLEY                7\n",
       "ALANSON                4\n",
       "...                  ...\n",
       "WINKWORTH             21\n",
       "WOLCOTT                2\n",
       "WOLF                   3\n",
       "WOODBINE               1\n",
       "WOODRUFF              30\n",
       "\n",
       "[413 rows x 1 columns]"
      ]
     },
     "execution_count": 23,
     "metadata": {},
     "output_type": "execute_result"
    }
   ],
   "source": [
    "# street_pothole_sum code here\n",
    "\n",
    "# Grouping by StreetName and then counting the total potholes. Then renaming the column name to num_potholes\n",
    "street_pothole_sum = poth.groupby(['StreetName']).count().filter(['StreetNumber']).rename(columns={'StreetNumber': 'num_potholes'})\n",
    "\n",
    "street_pothole_sum\n",
    "\n"
   ]
  },
  {
   "cell_type": "code",
   "execution_count": 24,
   "metadata": {},
   "outputs": [
    {
     "data": {
      "text/html": [
       "<div>\n",
       "<style scoped>\n",
       "    .dataframe tbody tr th:only-of-type {\n",
       "        vertical-align: middle;\n",
       "    }\n",
       "\n",
       "    .dataframe tbody tr th {\n",
       "        vertical-align: top;\n",
       "    }\n",
       "\n",
       "    .dataframe thead th {\n",
       "        text-align: right;\n",
       "    }\n",
       "</style>\n",
       "<table border=\"1\" class=\"dataframe\">\n",
       "  <thead>\n",
       "    <tr style=\"text-align: right;\">\n",
       "      <th></th>\n",
       "      <th>num_potholes</th>\n",
       "    </tr>\n",
       "    <tr>\n",
       "      <th>StreetName</th>\n",
       "      <th></th>\n",
       "    </tr>\n",
       "  </thead>\n",
       "  <tbody>\n",
       "    <tr>\n",
       "      <td>ACADEMY</td>\n",
       "      <td>76</td>\n",
       "    </tr>\n",
       "    <tr>\n",
       "      <td>ACKERMAN</td>\n",
       "      <td>5</td>\n",
       "    </tr>\n",
       "    <tr>\n",
       "      <td>ADAMS</td>\n",
       "      <td>17</td>\n",
       "    </tr>\n",
       "    <tr>\n",
       "      <td>AINSLEY</td>\n",
       "      <td>7</td>\n",
       "    </tr>\n",
       "    <tr>\n",
       "      <td>ALANSON</td>\n",
       "      <td>4</td>\n",
       "    </tr>\n",
       "  </tbody>\n",
       "</table>\n",
       "</div>"
      ],
      "text/plain": [
       "            num_potholes\n",
       "StreetName              \n",
       "ACADEMY               76\n",
       "ACKERMAN               5\n",
       "ADAMS                 17\n",
       "AINSLEY                7\n",
       "ALANSON                4"
      ]
     },
     "execution_count": 24,
     "metadata": {},
     "output_type": "execute_result"
    }
   ],
   "source": [
    "street_pothole_sum.head() # Printing head(first 5 rows) of total potholes by street name\n"
   ]
  },
  {
   "cell_type": "code",
   "execution_count": 25,
   "metadata": {},
   "outputs": [
    {
     "data": {
      "text/plain": [
       "(413, 1)"
      ]
     },
     "execution_count": 25,
     "metadata": {},
     "output_type": "execute_result"
    }
   ],
   "source": [
    "street_pothole_sum.shape # Dimension/shape of street pothole sum dataframe"
   ]
  },
  {
   "cell_type": "code",
   "execution_count": 26,
   "metadata": {
    "deletable": false,
    "editable": false,
    "nbgrader": {
     "checksum": "da34aac4c035b267f3ff5816fd031fba",
     "grade": true,
     "grade_id": "cell-17c0ac01cace4b18",
     "locked": true,
     "points": 10,
     "schema_version": 1,
     "solution": false
    }
   },
   "outputs": [],
   "source": [
    "# for grading use only (question 6d)"
   ]
  },
  {
   "cell_type": "markdown",
   "metadata": {},
   "source": [
    "##### Grading Feedback Cell"
   ]
  },
  {
   "cell_type": "markdown",
   "metadata": {},
   "source": [
    "6e (4 pts) Save the number of potholes on Comstock Ave in a variable named num_potholes_comstock and display the variable. The num_potholes_comstock variable should be an integer type.  Print num_potholes_comstock."
   ]
  },
  {
   "cell_type": "code",
   "execution_count": 27,
   "metadata": {},
   "outputs": [
    {
     "data": {
      "text/plain": [
       "10"
      ]
     },
     "execution_count": 27,
     "metadata": {},
     "output_type": "execute_result"
    }
   ],
   "source": [
    "# num_potholes_comstock code here\n",
    "num_potholes_comstock = street_pothole_sum.loc['COMSTOCK ',\"num_potholes\"]\n",
    "num_potholes_comstock\n"
   ]
  },
  {
   "cell_type": "code",
   "execution_count": 28,
   "metadata": {},
   "outputs": [
    {
     "data": {
      "text/plain": [
       "numpy.int64"
      ]
     },
     "execution_count": 28,
     "metadata": {},
     "output_type": "execute_result"
    }
   ],
   "source": [
    "type(num_potholes_comstock)"
   ]
  },
  {
   "cell_type": "code",
   "execution_count": 29,
   "metadata": {
    "deletable": false,
    "editable": false,
    "nbgrader": {
     "checksum": "da34aac4c035b267f3ff5816fd031fba",
     "grade": true,
     "grade_id": "cell-17c0ac01cace4b18",
     "locked": true,
     "points": 10,
     "schema_version": 1,
     "solution": false
    }
   },
   "outputs": [],
   "source": [
    "# for grading use only (question 6e)"
   ]
  },
  {
   "cell_type": "markdown",
   "metadata": {},
   "source": [
    "##### Grading Feedback Cell"
   ]
  },
  {
   "cell_type": "markdown",
   "metadata": {},
   "source": [
    "#### Question 7 (10 pts): Create a function named my_corr_coef that takes as input 2 numpy single dimensional arrays and returns the correlation coefficient to the caller.  Note that your function does not have to work for matrices.  The correlation coefficient is a number of type float between -1 and 1.  The my_corr_coef function should not use any built in numpy functions to calculate the correlation.  For example, don't use the built in numpy corrcoef function, don't use np.mean, etc.  Make sure to check for input error conditions and return the Python 'None' type if the correlation coefficient cannot be computed due to problems with the input data.  See [equation 3](https://en.wikipedia.org/wiki/Pearson_correlation_coefficient) as a reference on how to compute correlation."
   ]
  },
  {
   "cell_type": "code",
   "execution_count": 30,
   "metadata": {},
   "outputs": [],
   "source": [
    "# my_corr_coef here\n",
    "def my_corr_coef(a,b): # Defining the function for calculating the correlation co-efficient\n",
    "    if((len(a)==len(b)) and (a.ndim==1 and type(a)==np.ndarray) and (a.ndim==1 and type(b)==np.ndarray)): # Checking if the length of arrays a, b are same and if both of them are single dimension np arrays only\n",
    "        lst1 = [] # Creating empty list for standard deviation of array a\n",
    "        lst2 = [] # Creating empty list for standard deviation of array b\n",
    "        lst3 = [] # Creating empty list for calculating covariance of array a and b\n",
    "        \n",
    "        for i in range(len(a)): # For loop for calculating the covariance and standard deviation of arrays a and b iterating over length of arrays\n",
    "            numerator=0 # Setting numerator 0 initially\n",
    "            mean_a = sum(a)/len(a) # Calculating mean of numpy array a\n",
    "            mean_b = sum(b)/len(b) # Calculating mean of numpy array b\n",
    "            numerator = (a[i]-(mean_a))*(b[i]-(mean_b)) # Calculating covariance between the 2 arrays\n",
    "            lst3.append(numerator) # appending the values for each iteration in the empty list \n",
    "            numerator = sum(lst3)/len(a) # Summing the values in the list and then dividing by length to get covariance\n",
    "               \n",
    "            denominator_a = (float((a[i]-(mean_a))**2)) # Calculating Difference between each element of a and its mean and then squaring the result\n",
    "            denominator_b = (float((b[i]-(mean_b))**2)) # Calculating Difference between each element of b and its mean and then squaring the result\n",
    "            lst1.append(denominator_a) # appending the above value of difference squared in for array a\n",
    "            lst2.append(denominator_b) # appending the above value of difference squared in for array b\n",
    "        \n",
    "        std_a = math.sqrt(sum(lst1)/len(a)) # Calculating the standard deviation of array a by summing the list1 and taking square root\n",
    "        \n",
    "        std_b = math.sqrt(sum(lst2)/len(b)) # Calculating the standard deviation of array b by summing the list1 and taking square root\n",
    "        std_b\n",
    "\n",
    "        denominator = std_a * std_b # Denominator is the product of standard deviation of arrays a and b\n",
    "        \n",
    "\n",
    "        corr = numerator/denominator # Calculating the correlation co-efficient by dividing the covariance of arrays a and b by product of their standard deviations\n",
    "        return corr # return the correlation co-efficient \n",
    "    else:\n",
    "        print(\"None\") # If the length of both arrays is different and anyone one or both of them are not numpy arrays print None"
   ]
  },
  {
   "cell_type": "code",
   "execution_count": 31,
   "metadata": {
    "deletable": false,
    "editable": false,
    "nbgrader": {
     "checksum": "da34aac4c035b267f3ff5816fd031fba",
     "grade": true,
     "grade_id": "cell-17c0ac01cace4b18",
     "locked": true,
     "points": 10,
     "schema_version": 1,
     "solution": false
    }
   },
   "outputs": [
    {
     "data": {
      "text/plain": [
       "0.9953500135553002"
      ]
     },
     "execution_count": 31,
     "metadata": {},
     "output_type": "execute_result"
    }
   ],
   "source": [
    "# for grading use only (question 7)\n",
    "a = np.array([1,2,3,4,6,7,8,9])\n",
    "b = np.array([2,4,6,8,10,12,13,15])\n",
    "my_corr_coef(a,b)"
   ]
  },
  {
   "cell_type": "markdown",
   "metadata": {},
   "source": [
    "##### Grading Feedback Cell"
   ]
  }
 ],
 "metadata": {
  "celltoolbar": "Edit Metadata",
  "kernel_info": {
   "name": "python3"
  },
  "kernelspec": {
   "display_name": "Python 3",
   "language": "python",
   "name": "python3"
  },
  "language_info": {
   "codemirror_mode": {
    "name": "ipython",
    "version": 3
   },
   "file_extension": ".py",
   "mimetype": "text/x-python",
   "name": "python",
   "nbconvert_exporter": "python",
   "pygments_lexer": "ipython3",
   "version": "3.7.4"
  },
  "name": "lab1-no-key",
  "notebookId": 3197279189044075,
  "nteract": {
   "version": "0.12.3"
  }
 },
 "nbformat": 4,
 "nbformat_minor": 1
}
