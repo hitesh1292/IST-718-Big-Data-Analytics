{
 "cells": [
  {
   "cell_type": "markdown",
   "metadata": {},
   "source": [
    "##### Grading Feedback Cell\n",
    "102"
   ]
  },
  {
   "cell_type": "markdown",
   "metadata": {},
   "source": [
    "# IST 718: Big Data Analytics\n",
    "\n",
    "- Professor: Willard Williamson <wewillia@syr.edu>\n",
    "- Faculty Assistant: Yash Pasar <yspasar@syr.edu>\n",
    "## General instructions:\n",
    "\n",
    "- You are welcome to discuss the problems with your classmates but __you are not allowed to copy any part of your answers from your classmates.  Short code snippets are allowed from the internet.  Code from the class text books or class provided code can be copied in its entirety.__\n",
    "- There could be tests in some cells (i.e., `assert` and `np.testing.` statements). These tests (if present) are used to grade your answers. **However, the professor and FAs could use __additional__ test for your answer. Think about cases where your code should run even if it passess all the tests you see.**\n",
    "- Before submitting your work, remember to check for run time errors with the following procedure:\n",
    "`Kernel`$\\rightarrow$`Restart and Run All`.  All runtime errors will result in a minimum penalty of half off.\n",
    "- Data Bricks is the official class runtime environment so you should test your code on Data Bricks before submission.  If there is a runtime problem in the grading environment, we will try your code on Data Bricks before making a final grading decision.\n",
    "- All plots shall include a title, and axis labels.\n",
    "- Grading feedback cells are there for graders to provide feedback to students.  Don't change or remove grading feedback cells.\n",
    "- Don't add or remove files from your git repo.\n",
    "- Do not change file names in your repo.  This also means don't change the title of the ipython notebook.\n",
    "- __Only use spark, spark machine learning, spark data frames, RDD's, and map reduce to solve all problems unless instructed otherwise.__"
   ]
  },
  {
   "cell_type": "code",
   "execution_count": 1,
   "metadata": {
    "deletable": false,
    "editable": false,
    "nbgrader": {
     "checksum": "34b858b2a4dae4c0c6569a235758d7e7",
     "grade": true,
     "grade_id": "cell-16fe9b731c74bdb1",
     "locked": true,
     "points": 5,
     "schema_version": 1,
     "solution": false
    }
   },
   "outputs": [],
   "source": [
    "# read only cell\n",
    "\n",
    "import os\n",
    "\n",
    "# get the databricks runtime version\n",
    "db_env = os.getenv(\"DATABRICKS_RUNTIME_VERSION\")\n",
    "\n",
    "# Define a function to read the data file.  The full path data file name is constructed\n",
    "# by checking runtime environment variables to determine if the runtime environment is \n",
    "# databricks, or a student's personal computer.  The full path file name is then\n",
    "# constructed based on the runtime env.\n",
    "# \n",
    "# Params\n",
    "#   data_file_name: The base name of the data file to load\n",
    "# \n",
    "# Returns the full path file name based on the runtime env\n",
    "#\n",
    "def get_training_filename(data_file_name):    \n",
    "    # if the databricks env var exists\n",
    "    if db_env != None:\n",
    "        # build the full path file name assuming data brick env\n",
    "        full_path_name = \"/FileStore/tables/%s\" % data_file_name\n",
    "    # else the data is assumed to be in the same dir as this notebook\n",
    "    else:\n",
    "        # Assume the student is running on their own computer and load the data\n",
    "        # file from the same dir as this notebook\n",
    "        full_path_name = data_file_name\n",
    "    \n",
    "    # return the full path file name to the caller\n",
    "    return full_path_name"
   ]
  },
  {
   "cell_type": "code",
   "execution_count": 2,
   "metadata": {},
   "outputs": [],
   "source": [
    "# import statements here\n",
    "# create spark and sparkcontext objects\n",
    "from pyspark.sql import SparkSession\n",
    "from pyspark.sql import Row\n",
    "import numpy as np\n",
    "import pandas as pd\n",
    "from pyspark.sql.types import *\n",
    "from pyspark.sql.functions import isnan, isnull, when, count, col\n",
    "import matplotlib.pyplot as plt\n",
    "from pyspark.sql import functions as fn\n",
    "from pyspark.ml import feature, regression, evaluation, Pipeline\n",
    "import seaborn as sns\n",
    "from pyspark.ml.feature import VectorAssembler\n",
    "from pyspark.ml import Pipeline\n",
    "from pyspark.ml.regression import LinearRegression\n",
    "from pyspark.ml.stat import Correlation\n",
    "\n",
    "spark = SparkSession.builder.getOrCreate()\n",
    "sc = spark.sparkContext"
   ]
  },
  {
   "cell_type": "markdown",
   "metadata": {},
   "source": [
    "# Moore's Law\n",
    "The frequently cited “Moore’s Law” originated with a 1965 article in Electronics magazine that said the number of transistors in a given area would double every year."
   ]
  },
  {
   "cell_type": "markdown",
   "metadata": {},
   "source": [
    "### ONLY use spark functions unless the question instructions say otherwise."
   ]
  },
  {
   "cell_type": "markdown",
   "metadata": {},
   "source": [
    "## Question 1 Load the Transistor Data (5 pts)\n",
    "- Read the MooresLaw.txt file into a spark data frame named trans_df using only spark.  The columns should be named as per the header in the txt file.\n",
    "- Print the first 5 rows of trans_df \n",
    "- Print the shape of trans_df (num_rows, num_cols)\n",
    "- Make sure to use the get_training_filename function above to obtain the file name based on your runtime environment"
   ]
  },
  {
   "cell_type": "code",
   "execution_count": 5,
   "metadata": {},
   "outputs": [
    {
     "name": "stdout",
     "output_type": "stream",
     "text": [
      "+---------------+------+-----------+----+----+----+----+\n",
      "|Intel Processor|  Year|Transistors| _c3| _c4| _c5| _c6|\n",
      "+---------------+------+-----------+----+----+----+----+\n",
      "|           4004|1971.9|       2300|null|null|null|null|\n",
      "|           8008|1972.3|       3500|null|null|null|null|\n",
      "|           8080|1974.3|       6000|null|null|null|null|\n",
      "|           8085|1976.3|       6500|null|null|null|null|\n",
      "|           8086|1978.5|      29000|null|null|null|null|\n",
      "+---------------+------+-----------+----+----+----+----+\n",
      "only showing top 5 rows\n",
      "\n",
      "Shape =  (74, 7)\n"
     ]
    }
   ],
   "source": [
    "# your code here\n",
    "trans_df = spark.read.option(\"header\",\"true\").option(\"delimiter\",\"\\t\").option(\"inferSchema\",\"true\").csv('MooresLaw.txt')\n",
    "trans_df.show(5)\n",
    "print('Shape = ',(trans_df.count(), len(trans_df.columns)))"
   ]
  },
  {
   "cell_type": "markdown",
   "metadata": {},
   "source": [
    "##### Grading Feedback Cell"
   ]
  },
  {
   "cell_type": "markdown",
   "metadata": {},
   "source": [
    "## Question 2 Transistor Data Cleanup (5 pts)\n",
    "- Drop all columns in trans_df except the Year and Transistors column.\n",
    "- Drop rows in trans_df that contain NaN vales\n",
    "- Prove that trans_df does not contain NaN values by showing a single integer sum of the number of Nan values in the dataframe (should equal 0)"
   ]
  },
  {
   "cell_type": "code",
   "execution_count": 6,
   "metadata": {},
   "outputs": [
    {
     "name": "stdout",
     "output_type": "stream",
     "text": [
      "+------+-----------+\n",
      "|  Year|Transistors|\n",
      "+------+-----------+\n",
      "|1971.9|       2300|\n",
      "|1972.3|       3500|\n",
      "|1974.3|       6000|\n",
      "|1976.3|       6500|\n",
      "|1978.5|      29000|\n",
      "|1979.5|      29000|\n",
      "|1982.2|     134000|\n",
      "|1985.8|     275000|\n",
      "|1989.3|    1180000|\n",
      "|1993.3|    3100000|\n",
      "|1994.3|    1600000|\n",
      "|1994.3|    3300000|\n",
      "|1995.9|    5500000|\n",
      "|1996.8|    4500000|\n",
      "|1997.4|    7500000|\n",
      "|1998.5|    7500000|\n",
      "|1999.3|    9500000|\n",
      "|1999.8|   28100000|\n",
      "|2000.4|   28000000|\n",
      "|2000.9|   42000000|\n",
      "+------+-----------+\n",
      "only showing top 20 rows\n",
      "\n"
     ]
    }
   ],
   "source": [
    "# your code here\n",
    "keep_col = [\"Year\",\"Transistors\"]\n",
    "new = [feature for feature in trans_df.columns if feature not in keep_col]\n",
    "trans_df = trans_df.drop(*new)\n",
    "trans_df.show()"
   ]
  },
  {
   "cell_type": "code",
   "execution_count": 7,
   "metadata": {},
   "outputs": [],
   "source": [
    "trans_df = trans_df.na.drop()\n"
   ]
  },
  {
   "cell_type": "code",
   "execution_count": 8,
   "metadata": {},
   "outputs": [
    {
     "name": "stdout",
     "output_type": "stream",
     "text": [
      "Total number of NaN values in trans_df = 0\n"
     ]
    }
   ],
   "source": [
    "\n",
    "nan = trans_df.select(sum([count(when(isnan(c),c)).alias(c).cast('int') for c in trans_df.columns]).alias('nan_total'))\n",
    "print('Total number of NaN values in trans_df =',nan.first()[0])"
   ]
  },
  {
   "cell_type": "code",
   "execution_count": 46,
   "metadata": {},
   "outputs": [
    {
     "name": "stdout",
     "output_type": "stream",
     "text": [
      "root\n",
      " |-- Year: double (nullable = true)\n",
      " |-- Transistors: long (nullable = true)\n",
      "\n"
     ]
    }
   ],
   "source": [
    "trans_df.printSchema()"
   ]
  },
  {
   "cell_type": "markdown",
   "metadata": {},
   "source": [
    "##### Grading Feedback Cell"
   ]
  },
  {
   "cell_type": "markdown",
   "metadata": {},
   "source": [
    "## Question 3 Transistor Data Exploration (10 pts)\n"
   ]
  },
  {
   "cell_type": "markdown",
   "metadata": {},
   "source": [
    "### Question 3a (3 pts) \n",
    "Explore the data in trans_df by plotting transistors vs. year with a scatter plot.  You may use packages outside of spark to perform the task in question 3a."
   ]
  },
  {
   "cell_type": "code",
   "execution_count": 10,
   "metadata": {},
   "outputs": [
    {
     "data": {
      "text/plain": [
       "Text(0.5, 1.0, 'Scatter plot of Year vs Number of Transistors')"
      ]
     },
     "execution_count": 10,
     "metadata": {},
     "output_type": "execute_result"
    },
    {
     "data": {
      "image/png": "[encoded data removed]",
      "text/plain": [
       "<Figure size 432x288 with 1 Axes>"
      ]
     },
     "metadata": {
      "needs_background": "light"
     },
     "output_type": "display_data"
    }
   ],
   "source": [
    "# Your code here\n",
    "trans_df_scatter = trans_df.toPandas()\n",
    "\n",
    "trans_df_scatter.plot.scatter(x=\"Year\",y=\"Transistors\",c=\"Blue\")\n",
    "plt.title(\"Scatter plot of Year vs Number of Transistors\")"
   ]
  },
  {
   "cell_type": "markdown",
   "metadata": {},
   "source": [
    "##### Grading Feedback Cell"
   ]
  },
  {
   "cell_type": "markdown",
   "metadata": {},
   "source": [
    "### Question 3b (3 pts)\n",
    "Compute the correlation between year and number of transistors in the trans_df using spark.  Print the resulting correlation value.  Interpret the correlation in words in the provided markdown cell."
   ]
  },
  {
   "cell_type": "code",
   "execution_count": 11,
   "metadata": {},
   "outputs": [
    {
     "name": "stdout",
     "output_type": "stream",
     "text": [
      "+-------------------------------------+\n",
      "|Correlation Year vs No of Transistors|\n",
      "+-------------------------------------+\n",
      "|                   0.5434352929286356|\n",
      "+-------------------------------------+\n",
      "\n"
     ]
    }
   ],
   "source": [
    "# your code here\n",
    "corr = trans_df.select([fn.corr('Year','Transistors').alias(\"Correlation Year vs No of Transistors\")])\n",
    "corr.show()"
   ]
  },
  {
   "cell_type": "markdown",
   "metadata": {},
   "source": [
    "##### Grading Feedback Cell"
   ]
  },
  {
   "cell_type": "markdown",
   "metadata": {},
   "source": [
    "### Question 3c (4 pts) \n",
    "- Interpret the correlation value computed above in the markdown cell below."
   ]
  },
  {
   "cell_type": "markdown",
   "metadata": {},
   "source": [
    "Your correlation interpretation here:\n",
    "The correlation between Year and Number of Transistors is 0.54 which is a moderately strong positive correlation. The strength of the correlation is moderately strong meaning the absolute value is high enough. The direction is positive meaning as the time progressed from 1970 to 2010, the number of transistors went very high increasing exponentially after 2000. This caused the devices to become smaller as the number of transistors that could be accomodated on a chip were very high. This also proves the Moore's Law is correct for the number of transistors so there is a exponential rise in the number of transistors as time passes by."
   ]
  },
  {
   "cell_type": "markdown",
   "metadata": {},
   "source": [
    "##### Grading Feedback Cell"
   ]
  },
  {
   "cell_type": "markdown",
   "metadata": {},
   "source": [
    "## Question 4 Transform the Data (10 pts)"
   ]
  },
  {
   "cell_type": "markdown",
   "metadata": {},
   "source": [
    "### Question 4a (5 pts)\n",
    "- Create a new data frame named trans_df_2 that adds a log transform to the transistors col in trans_df.\n",
    "- Print the head of trans_df_2\n",
    "- Print the shape of trans_df_2"
   ]
  },
  {
   "cell_type": "code",
   "execution_count": 12,
   "metadata": {},
   "outputs": [
    {
     "name": "stdout",
     "output_type": "stream",
     "text": [
      "Row(Year=1971.9, Transistors=2300, Log Transistors=7.7406644019172415)\n",
      "Shape =  (74, 3)\n"
     ]
    }
   ],
   "source": [
    "# your code here\n",
    "\n",
    "trans_df_2 = trans_df.select(trans_df[\"Year\"],trans_df[\"Transistors\"],fn.log(trans_df['Transistors']).alias('Log Transistors'))\n",
    "print(trans_df_2.head())\n",
    "print('Shape = ',(trans_df_2.count(), len(trans_df_2.columns)))"
   ]
  },
  {
   "cell_type": "markdown",
   "metadata": {},
   "source": [
    "##### Grading Feedback Cell\n",
    "-2 for not displaying the first 5 rows of the dataframe properly"
   ]
  },
  {
   "cell_type": "markdown",
   "metadata": {},
   "source": [
    "### Question 4b (5 pts)\n",
    "- Using trans_df_2, create a scatter plot of log transistors vs. year.  You may use packages outside of spark for this task."
   ]
  },
  {
   "cell_type": "code",
   "execution_count": 13,
   "metadata": {},
   "outputs": [
    {
     "data": {
      "text/plain": [
       "Text(0.5, 1.0, 'Scatter plot of Year vs Log of Number of Transistors')"
      ]
     },
     "execution_count": 13,
     "metadata": {},
     "output_type": "execute_result"
    },
    {
     "data": {
      "image/png": "[encoded data removed]",
      "text/plain": [
       "<Figure size 432x288 with 1 Axes>"
      ]
     },
     "metadata": {
      "needs_background": "light"
     },
     "output_type": "display_data"
    }
   ],
   "source": [
    "# your code here\n",
    "\n",
    "trans_df_scatter_log = trans_df_2.toPandas()\n",
    "\n",
    "trans_df_scatter_log.plot.scatter(x=\"Year\",y=\"Log Transistors\",c=\"Green\")\n",
    "plt.title(\"Scatter plot of Year vs Log of Number of Transistors\")"
   ]
  },
  {
   "cell_type": "markdown",
   "metadata": {},
   "source": [
    "##### Grading Feedback Cell"
   ]
  },
  {
   "cell_type": "markdown",
   "metadata": {},
   "source": [
    "## Question 5 Fit a Linear Regression Pipeline (10 pts)"
   ]
  },
  {
   "cell_type": "markdown",
   "metadata": {},
   "source": [
    "### Question 5a ( 2 pts)\n",
    "- Split trans_df_2 into train and test splits with a 60:40 ratio.  Name the resulting data frames trans_train and trans_test.  Print the shape of of the train and test data frames."
   ]
  },
  {
   "cell_type": "code",
   "execution_count": 14,
   "metadata": {},
   "outputs": [
    {
     "name": "stdout",
     "output_type": "stream",
     "text": [
      "Shape of train dataframe = (47, 3)\n",
      "Shape of test dataframe = (27, 3)\n"
     ]
    }
   ],
   "source": [
    "# your code here\n",
    "trans_train,trans_test = trans_df_2.randomSplit([0.6, 0.4],seed=124)\n",
    "\n",
    "print('Shape of train dataframe =',(trans_train.count(), len(trans_train.columns)))\n",
    "print('Shape of test dataframe =',(trans_test.count(), len(trans_test.columns)))"
   ]
  },
  {
   "cell_type": "markdown",
   "metadata": {},
   "source": [
    "##### Grading Feedback Cell"
   ]
  },
  {
   "cell_type": "markdown",
   "metadata": {},
   "source": [
    "### Question 5b (6 pts)\n",
    "- Create a spark pipeline named trans_pipe to perform linear regression\n",
    "- Fit the pipeline using the transistors as the targets and year as the features.  Name the resulting fitted pipeline fitted_trans_pipe.\n",
    "- Fit another pipeline using the log transistors column as the targets and year as the features.  Name the resulting fitted pipeline log_fitted_trans_pipe."
   ]
  },
  {
   "cell_type": "code",
   "execution_count": 15,
   "metadata": {},
   "outputs": [],
   "source": [
    "# your code here\n",
    "\n",
    "stage_1 = feature.VectorAssembler(inputCols=['Year'], outputCol='features')\n",
    "\n",
    "stage_2 = regression.LinearRegression(featuresCol='features', labelCol='Transistors')\n",
    "\n",
    "trans_pipe = Pipeline(stages=[stage_1, stage_2])"
   ]
  },
  {
   "cell_type": "code",
   "execution_count": 16,
   "metadata": {},
   "outputs": [
    {
     "data": {
      "text/plain": [
       "DataFrame[Year: double, Transistors: bigint, Log Transistors: double, features: vector, prediction: double]"
      ]
     },
     "execution_count": 16,
     "metadata": {},
     "output_type": "execute_result"
    }
   ],
   "source": [
    "fitted_trans_pipe = trans_pipe.fit(trans_train) \n",
    "\n",
    "fitted_trans_pipe.transform(trans_test)\n",
    "\n",
    "log_fitted_trans_pipe = Pipeline(stages=[\n",
    "  feature.VectorAssembler(inputCols=['Year'], outputCol='features'),\n",
    "  regression.LinearRegression(featuresCol='features', labelCol='Log Transistors')]).fit(trans_train)\n",
    "\n",
    "log_fitted_trans_pipe.transform(trans_test)"
   ]
  },
  {
   "cell_type": "code",
   "execution_count": 17,
   "metadata": {},
   "outputs": [
    {
     "name": "stdout",
     "output_type": "stream",
     "text": [
      "+------+-----------+------------------+--------+--------------------+\n",
      "|  Year|Transistors|   Log Transistors|features|          prediction|\n",
      "+------+-----------+------------------+--------+--------------------+\n",
      "|1982.2|     134000|11.805595078933049|[1982.2]|-2.95158795629165...|\n",
      "|1989.3|    1180000|13.981024996441848|[1989.3]| 7.640210350820923E7|\n",
      "|1993.3|    3100000|14.946912669455374|[1993.3]| 2.857321875292511E8|\n",
      "|1997.4|    7500000|15.830413578506539|[1997.4]| 5.002955236508484E8|\n",
      "|1999.3|    9500000| 16.06680235657077|[1999.3]| 5.997273135608368E8|\n",
      "+------+-----------+------------------+--------+--------------------+\n",
      "only showing top 5 rows\n",
      "\n",
      "+------+-----------+------------------+--------+------------------+\n",
      "|  Year|Transistors|   Log Transistors|features|        prediction|\n",
      "+------+-----------+------------------+--------+------------------+\n",
      "|1982.2|     134000|11.805595078933049|[1982.2]|11.293357481551539|\n",
      "|1989.3|    1180000|13.981024996441848|[1989.3]|13.679946551541775|\n",
      "|1993.3|    3100000|14.946912669455374|[1993.3]| 15.02450377407149|\n",
      "|1997.4|    7500000|15.830413578506539|[1997.4]|16.402674927164412|\n",
      "|1999.3|    9500000| 16.06680235657077|[1999.3]|17.041339607866007|\n",
      "+------+-----------+------------------+--------+------------------+\n",
      "only showing top 5 rows\n",
      "\n"
     ]
    }
   ],
   "source": [
    "fitted_trans_pipe.transform(trans_test).show(5)\n",
    "\n",
    "log_fitted_trans_pipe.transform(trans_test).show(5)"
   ]
  },
  {
   "cell_type": "markdown",
   "metadata": {},
   "source": [
    "##### Grading Feedback Cell"
   ]
  },
  {
   "cell_type": "markdown",
   "metadata": {},
   "source": [
    "### Question 5c (2 pts)\n",
    "- Print the linear regression coefficient in the linear regression object in each fitted model\n",
    "- Print the linear regression Y intercept in the linear regression object in each fitted model"
   ]
  },
  {
   "cell_type": "code",
   "execution_count": 18,
   "metadata": {},
   "outputs": [
    {
     "name": "stdout",
     "output_type": "stream",
     "text": [
      "Linear Regression Y intercept for Log Transistors = -655.0019741430418\n",
      "Linear Regression Coefficient for Log Transistors =  [0.3361393056324253]\n"
     ]
    }
   ],
   "source": [
    "# your code here\n",
    "print('Linear Regression Y intercept for Log Transistors =',log_fitted_trans_pipe.stages[1].intercept)\n",
    "print('Linear Regression Coefficient for Log Transistors = ',log_fitted_trans_pipe.stages[1].coefficients)"
   ]
  },
  {
   "cell_type": "code",
   "execution_count": 19,
   "metadata": {},
   "outputs": [
    {
     "name": "stdout",
     "output_type": "stream",
     "text": [
      "Linear Regression Y intercept =  -104028681932.26277\n",
      "Linear Regression Coefficient =  [52332521.00526365]\n"
     ]
    }
   ],
   "source": [
    "print('Linear Regression Y intercept = ',fitted_trans_pipe.stages[1].intercept)\n",
    "print('Linear Regression Coefficient = ',fitted_trans_pipe.stages[1].coefficients)"
   ]
  },
  {
   "cell_type": "markdown",
   "metadata": {},
   "source": [
    "##### Grading Feedback Cell"
   ]
  },
  {
   "cell_type": "markdown",
   "metadata": {},
   "source": [
    "### Question 6 Test the linear regression pipeline (10 pts)"
   ]
  },
  {
   "cell_type": "markdown",
   "metadata": {},
   "source": [
    "### Question 6a (5 pts)\n",
    "- Compute mean squared error (MSE) using the transform method on each fitted model.\n",
    "- Print the resulting MSEs."
   ]
  },
  {
   "cell_type": "code",
   "execution_count": 20,
   "metadata": {},
   "outputs": [
    {
     "name": "stdout",
     "output_type": "stream",
     "text": [
      "+--------------------+\n",
      "|                 mse|\n",
      "+--------------------+\n",
      "|1.906236608241877...|\n",
      "+--------------------+\n",
      "\n"
     ]
    }
   ],
   "source": [
    "# your code here\n",
    "\n",
    "mse = fn.mean((fn.col('Transistors') - fn.col('prediction'))**2).alias('mse')\n",
    "fitted_trans_pipe.transform(trans_test).select(mse).show()"
   ]
  },
  {
   "cell_type": "code",
   "execution_count": 21,
   "metadata": {},
   "outputs": [
    {
     "name": "stdout",
     "output_type": "stream",
     "text": [
      "+-------------------+\n",
      "|            mse_log|\n",
      "+-------------------+\n",
      "|0.40226530379164865|\n",
      "+-------------------+\n",
      "\n"
     ]
    }
   ],
   "source": [
    "mse_log = fn.mean((fn.col('Log Transistors') - fn.col('prediction'))**2).alias('mse_log')\n",
    "log_fitted_trans_pipe.transform(trans_test).select(mse_log).show()\n"
   ]
  },
  {
   "cell_type": "markdown",
   "metadata": {},
   "source": [
    "##### Grading Feedback Cell"
   ]
  },
  {
   "cell_type": "markdown",
   "metadata": {},
   "source": [
    "### Question 6b (5 pts)\n",
    "- Using log_fitted_trans_pipe and any needed support code, predict and print the number of transistors for the years 1970.0, 1980.0, 1990.0, 2000.0, and 2010.0"
   ]
  },
  {
   "cell_type": "code",
   "execution_count": 22,
   "metadata": {},
   "outputs": [
    {
     "ename": "NameError",
     "evalue": "name 'explode' is not defined",
     "output_type": "error",
     "traceback": [
      "\u001b[0;31m---------------------------------------------------------------------------\u001b[0m",
      "\u001b[0;31mNameError\u001b[0m                                 Traceback (most recent call last)",
      "\u001b[0;32m<ipython-input-22-d98141d1b802>\u001b[0m in \u001b[0;36m<module>\u001b[0;34m\u001b[0m\n\u001b[1;32m      6\u001b[0m \u001b[0myr_df\u001b[0m \u001b[0;34m=\u001b[0m \u001b[0mspark\u001b[0m\u001b[0;34m.\u001b[0m\u001b[0mcreateDataFrame\u001b[0m\u001b[0;34m(\u001b[0m\u001b[0;34m[\u001b[0m\u001b[0mRow\u001b[0m\u001b[0;34m(\u001b[0m\u001b[0mYear\u001b[0m \u001b[0;34m=\u001b[0m \u001b[0myr\u001b[0m\u001b[0;34m)\u001b[0m\u001b[0;34m]\u001b[0m\u001b[0;34m)\u001b[0m\u001b[0;34m\u001b[0m\u001b[0;34m\u001b[0m\u001b[0m\n\u001b[1;32m      7\u001b[0m \u001b[0;34m\u001b[0m\u001b[0m\n\u001b[0;32m----> 8\u001b[0;31m \u001b[0myr_df\u001b[0m \u001b[0;34m=\u001b[0m \u001b[0myr_df\u001b[0m\u001b[0;34m.\u001b[0m\u001b[0mwithColumn\u001b[0m\u001b[0;34m(\u001b[0m\u001b[0;34m'Year'\u001b[0m\u001b[0;34m,\u001b[0m\u001b[0mexplode\u001b[0m\u001b[0;34m(\u001b[0m\u001b[0;34m'Year'\u001b[0m\u001b[0;34m)\u001b[0m\u001b[0;34m)\u001b[0m\u001b[0;34m\u001b[0m\u001b[0;34m\u001b[0m\u001b[0m\n\u001b[0m\u001b[1;32m      9\u001b[0m \u001b[0;34m\u001b[0m\u001b[0m\n\u001b[1;32m     10\u001b[0m \u001b[0;34m\u001b[0m\u001b[0m\n",
      "\u001b[0;31mNameError\u001b[0m: name 'explode' is not defined"
     ]
    }
   ],
   "source": [
    "# Your code here\n",
    "\n",
    "yr = [1970.0,1980.0,1990.0,2000.0,2010.0]\n",
    "\n",
    "\n",
    "yr_df = spark.createDataFrame([Row(Year = yr)])\n",
    "\n",
    "yr_df = yr_df.withColumn('Year',explode('Year'))\n",
    "\n",
    "\n",
    "\n",
    "predict_df = log_fitted_trans_pipe.transform(yr_df).select(\"Year\",\"features\",\"prediction\")\n",
    "\n",
    "predict_df = predict_df.select(predict_df.Year,predict_df.features,exp(predict_df.prediction).alias(\"Number of Transistors\"))\n",
    "\n",
    "predict_df.show()"
   ]
  },
  {
   "cell_type": "markdown",
   "metadata": {},
   "source": [
    "##### Grading Feedback Cell\n",
    "-5 runtime error"
   ]
  },
  {
   "cell_type": "markdown",
   "metadata": {},
   "source": [
    "# Climate Change"
   ]
  },
  {
   "cell_type": "markdown",
   "metadata": {},
   "source": [
    "## Question 7 Load the global warming data (5 pts)\n",
    "- Read the globalWarm.txt file into a spark data frame named global_warm_df using only spark.  The columns should be named as per the header in the txt file.\n",
    "- Print the first 5 rows of global_warm_df \n",
    "- Print the shape of global_warm_df (num_rows, num_cols)\n",
    "- Make sure to use the get_training_filename function above to obtain the file name based on your runtime environment\n",
    "- A data description follows:\n",
    "<ul>\n",
    "<li/>Temp = annual surface temperature measured in 1/100<sup>o</sup> C   over the 1950-1980 mean.  \n",
    "<li/>Solar = annual mean intensity of sunlight piercing the atmosphere\n",
    "<li/>CO2 = annual average fraction CO<sub>2</sub> in atmosphere (#molecules/#molecules of dry air) \n",
    "<li/>IceShelf = sea ice in 1MM square miles  hypothesized to reflect heat\n",
    "<li/>Transmission = volcanic MLO transmission data where eruptions release greenhouse gases but also decrease the temperature\n",
    "</ul>"
   ]
  },
  {
   "cell_type": "code",
   "execution_count": 23,
   "metadata": {},
   "outputs": [],
   "source": [
    "# your code here\n",
    "global_warm_df = spark.read.option(\"header\",\"true\").option(\"delimiter\",\"\\t\").option(\"inferSchema\",\"true\").csv('globalWarm.txt')"
   ]
  },
  {
   "cell_type": "code",
   "execution_count": 24,
   "metadata": {},
   "outputs": [
    {
     "name": "stdout",
     "output_type": "stream",
     "text": [
      "+----+----+------+-------+------------+--------+\n",
      "|Year|Temp|   CO2|  Solar|Transmission|IceShelf|\n",
      "+----+----+------+-------+------------+--------+\n",
      "|1979|   8|336.67|1366.43| 0.928466667|     7.2|\n",
      "|1980|  19|338.57|1366.51| 0.929666667|    7.85|\n",
      "|1981|  26|339.92|1366.51| 0.929766667|    7.25|\n",
      "|1982|   4| 341.3|1366.16| 0.853066667|    7.45|\n",
      "|1983|  25|342.71|1366.18| 0.897716667|    7.52|\n",
      "+----+----+------+-------+------------+--------+\n",
      "only showing top 5 rows\n",
      "\n",
      "Shape = (32, 6)\n"
     ]
    }
   ],
   "source": [
    "global_warm_df.show(5)\n",
    "print('Shape =',(global_warm_df.count(), len(global_warm_df.columns)))"
   ]
  },
  {
   "cell_type": "code",
   "execution_count": 25,
   "metadata": {},
   "outputs": [
    {
     "name": "stdout",
     "output_type": "stream",
     "text": [
      "root\n",
      " |-- Year: integer (nullable = true)\n",
      " |-- Temp: integer (nullable = true)\n",
      " |-- CO2: double (nullable = true)\n",
      " |-- Solar: double (nullable = true)\n",
      " |-- Transmission: double (nullable = true)\n",
      " |-- IceShelf: double (nullable = true)\n",
      "\n"
     ]
    }
   ],
   "source": [
    "global_warm_df.printSchema()"
   ]
  },
  {
   "cell_type": "markdown",
   "metadata": {},
   "source": [
    "##### Grading Feedback Cell"
   ]
  },
  {
   "cell_type": "markdown",
   "metadata": {},
   "source": [
    "## Question 8 Global Warming Data Exploration (5 pts)\n",
    "- Create a temperature vs. year scatter plot from global_warm_df\n",
    "- You may use packages outside of spark for this question"
   ]
  },
  {
   "cell_type": "code",
   "execution_count": 26,
   "metadata": {},
   "outputs": [
    {
     "data": {
      "text/plain": [
       "Text(0.5, 1.0, 'Global Warming depicted by scatter plot of Temprature vs Year')"
      ]
     },
     "execution_count": 26,
     "metadata": {},
     "output_type": "execute_result"
    },
    {
     "data": {
      "image/png": "[encoded data removed]",
      "text/plain": [
       "<Figure size 432x288 with 1 Axes>"
      ]
     },
     "metadata": {
      "needs_background": "light"
     },
     "output_type": "display_data"
    }
   ],
   "source": [
    "# your code here\n",
    "\n",
    "global_warm_df_scatter = global_warm_df.toPandas()\n",
    "\n",
    "global_warm_df_scatter.plot.scatter(x=\"Year\",y=\"Temp\",c=\"Green\")\n",
    "plt.title(\"Global Warming depicted by scatter plot of Temprature vs Year\")"
   ]
  },
  {
   "cell_type": "markdown",
   "metadata": {},
   "source": [
    "##### Grading Feedback Cell"
   ]
  },
  {
   "cell_type": "markdown",
   "metadata": {},
   "source": [
    "## Question 9 Global Warming Data Exploration (10 pts)\n"
   ]
  },
  {
   "cell_type": "markdown",
   "metadata": {},
   "source": [
    "### Question 9a (5 pts)\n",
    "- Using global_warm_df, create a pair plot of the following variables in a grid:  Temp, CO<sub>2</sub>, Solar, Transmission, and IceShelf.\n",
    "- You may use packages outside of spark for this question"
   ]
  },
  {
   "cell_type": "code",
   "execution_count": 27,
   "metadata": {},
   "outputs": [
    {
     "data": {
      "text/plain": [
       "Text(0.5, 1.01, ' Pair plot of Temp, CO2, Solar, Transmission, IceShelf for GLobal Warming')"
      ]
     },
     "execution_count": 27,
     "metadata": {},
     "output_type": "execute_result"
    },
    {
     "data": {
      "image/png": "[encoded data removed]",
      "text/plain": [
       "<Figure size 900x900 with 30 Axes>"
      ]
     },
     "metadata": {
      "needs_background": "light"
     },
     "output_type": "display_data"
    }
   ],
   "source": [
    "# your code here\n",
    "global_warm_pairplot = sns.pairplot(global_warm_df.toPandas()[['Temp', 'CO2', 'Solar', 'Transmission', 'IceShelf']])\n",
    "global_warm_pairplot.fig.suptitle(\" Pair plot of Temp, CO2, Solar, Transmission, IceShelf for GLobal Warming\", y=1.01)"
   ]
  },
  {
   "cell_type": "markdown",
   "metadata": {},
   "source": [
    "##### Grading Feedback Cell"
   ]
  },
  {
   "cell_type": "markdown",
   "metadata": {},
   "source": [
    "### Question 9b (5 pts)\n",
    "- Compute a correlation matrix between Temp, CO<sub>2</sub>, Solar, Transmission, and IceShelf using spark.\n",
    "- Print a labeled correlation matrix."
   ]
  },
  {
   "cell_type": "code",
   "execution_count": 28,
   "metadata": {},
   "outputs": [
    {
     "name": "stdout",
     "output_type": "stream",
     "text": [
      "                  Temp       CO2     Solar  Transmission  IceShelf\n",
      "Temp          1.000000  0.860927 -0.340342      0.435394 -0.747425\n",
      "CO2           0.860927  1.000000 -0.542822      0.328228 -0.846961\n",
      "Solar        -0.340342 -0.542822  1.000000     -0.205848  0.470690\n",
      "Transmission  0.435394  0.328228 -0.205848      1.000000 -0.302484\n",
      "IceShelf     -0.747425 -0.846961  0.470690     -0.302484  1.000000\n"
     ]
    }
   ],
   "source": [
    "corr_matrix = [\"Temp\",\"CO2\",\"Solar\",\"Transmission\",\"IceShelf\"]\n",
    "vec = VectorAssembler(inputCols=corr_matrix,outputCol=\"features\")\n",
    "mat = vec.transform(global_warm_df).select(\"features\")\n",
    "\n",
    "matrix = Correlation.corr(mat, \"features\")\n",
    "\n",
    "cor_mat = matrix.collect()[0][\"pearson(features)\"].values\n",
    "\n",
    "corr_mat = pd.DataFrame(cor_mat.reshape(5,5),columns = corr_matrix, index=corr_matrix)\n",
    "\n",
    "print(corr_mat)"
   ]
  },
  {
   "cell_type": "markdown",
   "metadata": {},
   "source": [
    "##### Grading Feedback Cell"
   ]
  },
  {
   "cell_type": "markdown",
   "metadata": {},
   "source": [
    "## Question 10 Fit Linear Regression Pipelines (10 pts)"
   ]
  },
  {
   "cell_type": "markdown",
   "metadata": {},
   "source": [
    "### Question 10a (2 pts)\n",
    "Split global_warm_df into train and test splits with a 60:40 ratio.  Name the resulting data frames gw_train and gw_test.  Print the shape of of the train and test data frames.   "
   ]
  },
  {
   "cell_type": "code",
   "execution_count": 29,
   "metadata": {},
   "outputs": [
    {
     "name": "stdout",
     "output_type": "stream",
     "text": [
      "Shape of train data =  (18, 6)\n",
      "Shape of test data =  (14, 6)\n"
     ]
    }
   ],
   "source": [
    "# your code here\n",
    "\n",
    "gw_train,gw_test = global_warm_df.randomSplit([0.6, 0.4],seed=128)\n",
    "\n",
    "print('Shape of train data = ',(gw_train.count(), len(gw_train.columns)))\n",
    "print('Shape of test data = ',(gw_test.count(), len(gw_test.columns)))"
   ]
  },
  {
   "cell_type": "markdown",
   "metadata": {},
   "source": [
    "##### Grading Feedback Cell"
   ]
  },
  {
   "cell_type": "markdown",
   "metadata": {},
   "source": [
    "### Question 10b (6 pts)\n",
    "- Create a spark pipeline named global_warm_pipe to perform linear regression.\n",
    "- Use the global_warm_df data frame\n",
    "- Fit a pipeline on the temp column as the target and CO2 as the feature.  Name the resulting fitted pipeline fitted_global_warm_pipe.\n",
    "- Fit another pipeline on the temp column as the target and all other columns except year as the features.  Name the resulting fitted pipeline fitted_global_warm_pipe_2."
   ]
  },
  {
   "cell_type": "code",
   "execution_count": 30,
   "metadata": {},
   "outputs": [],
   "source": [
    "# your code here\n",
    "\n",
    "stage_1 = feature.VectorAssembler(inputCols=['CO2'], outputCol='features')\n",
    "\n",
    "stage_2 = regression.LinearRegression(featuresCol='features', labelCol='Temp')\n",
    "\n",
    "global_warm_pipe = Pipeline(stages=[stage_1, stage_2])"
   ]
  },
  {
   "cell_type": "code",
   "execution_count": 31,
   "metadata": {},
   "outputs": [
    {
     "name": "stdout",
     "output_type": "stream",
     "text": [
      "+----+----+------+-------+------------+--------+--------+------------------+\n",
      "|Year|Temp|   CO2|  Solar|Transmission|IceShelf|features|        prediction|\n",
      "+----+----+------+-------+------------+--------+--------+------------------+\n",
      "|1980|  19|338.57|1366.51| 0.929666667|    7.85|[338.57]| 8.924623636759577|\n",
      "|1981|  26|339.92|1366.51| 0.929766667|    7.25|[339.92]|10.327008389273203|\n",
      "|1983|  25|342.71|1366.18| 0.897716667|    7.52|[342.71]|13.225270211134557|\n",
      "|1984|   9|344.24|1365.71| 0.916491667|    7.17|[344.24]| 14.81463959731667|\n",
      "|1985|   4|345.81|1365.57|    0.924425|    6.93|[345.81]| 16.44556112431394|\n",
      "|1986|  12|347.11|1365.59| 0.926791667|    7.54|[347.11]|17.796005700808507|\n",
      "|1994|  23|358.14|1365.69| 0.924691667|    7.18|[358.14]|29.254008530604608|\n",
      "|1997|  39|363.18|1365.65|    0.930975|    6.74|[363.18]|34.489578273322024|\n",
      "|1998|  56|365.19|1365.98|    0.932125|    6.56|[365.19]|36.577573349286695|\n",
      "|1999|  31|367.86|1366.18| 0.929616667|    6.24|[367.86]|39.351178748702466|\n",
      "|2002|  56|372.01|1366.39|    0.930875|    5.96|[372.01]|43.662213358281235|\n",
      "|2003|  55|374.45|1365.92| 0.930141667|    6.15|[374.45]| 46.19689394800946|\n",
      "|2004|  48|376.77| 1365.7| 0.929866667|    6.05|[376.77]|48.606918115292046|\n",
      "|2006|  55|380.83|1365.44| 0.928041667|    5.92|[380.83]|  52.8244604080366|\n",
      "+----+----+------+-------+------------+--------+--------+------------------+\n",
      "\n"
     ]
    }
   ],
   "source": [
    "fitted_global_warm_pipe = global_warm_pipe.fit(gw_train)\n",
    "\n",
    "fitted_global_warm_pipe.transform(gw_test).show()"
   ]
  },
  {
   "cell_type": "code",
   "execution_count": 32,
   "metadata": {},
   "outputs": [],
   "source": [
    "fitted_global_warm_pipe_2 = Pipeline(stages=[\n",
    "  feature.VectorAssembler(inputCols=['CO2', 'Transmission', 'Solar','IceShelf'], outputCol='features'),\n",
    "  regression.LinearRegression(featuresCol='features', labelCol='Temp')  \n",
    "]).fit(gw_train)"
   ]
  },
  {
   "cell_type": "code",
   "execution_count": 33,
   "metadata": {},
   "outputs": [
    {
     "name": "stdout",
     "output_type": "stream",
     "text": [
      "+----+----+------+-------+------------+--------+--------------------+------------------+\n",
      "|Year|Temp|   CO2|  Solar|Transmission|IceShelf|            features|        prediction|\n",
      "+----+----+------+-------+------------+--------+--------------------+------------------+\n",
      "|1980|  19|338.57|1366.51| 0.929666667|    7.85|[338.57,0.9296666...|13.016039926225176|\n",
      "|1981|  26|339.92|1366.51| 0.929766667|    7.25|[339.92,0.9297666...|15.360019706544563|\n",
      "|1983|  25|342.71|1366.18| 0.897716667|    7.52|[342.71,0.8977166...|11.885098848538973|\n",
      "|1984|   9|344.24|1365.71| 0.916491667|    7.17|[344.24,0.9164916...| 16.60970547875081|\n",
      "|1985|   4|345.81|1365.57|    0.924425|    6.93|[345.81,0.924425,...|19.597702786177024|\n",
      "|1986|  12|347.11|1365.59| 0.926791667|    7.54|[347.11,0.9267916...| 19.86825229631654|\n",
      "|1994|  23|358.14|1365.69| 0.924691667|    7.18|[358.14,0.9246916...| 29.58557284246467|\n",
      "|1997|  39|363.18|1365.65|    0.930975|    6.74|[363.18,0.930975,...|35.681892258158314|\n",
      "|1998|  56|365.19|1365.98|    0.932125|    6.56|[365.19,0.932125,...|38.091327286300384|\n",
      "|1999|  31|367.86|1366.18| 0.929616667|    6.24|[367.86,0.9296166...| 40.68140891566941|\n",
      "|2002|  56|372.01|1366.39|    0.930875|    5.96|[372.01,0.930875,...|  45.0436033420458|\n",
      "|2003|  55|374.45|1365.92| 0.930141667|    6.15|[374.45,0.9301416...| 46.35110600442226|\n",
      "|2004|  48|376.77| 1365.7| 0.929866667|    6.05|[376.77,0.9298666...| 48.34066722327748|\n",
      "|2006|  55|380.83|1365.44| 0.928041667|    5.92|[380.83,0.9280416...|51.585740805330715|\n",
      "+----+----+------+-------+------------+--------+--------------------+------------------+\n",
      "\n"
     ]
    }
   ],
   "source": [
    "fitted_global_warm_pipe_2.transform(gw_test).show()"
   ]
  },
  {
   "cell_type": "markdown",
   "metadata": {},
   "source": [
    "##### Grading Feedback Cell"
   ]
  },
  {
   "cell_type": "markdown",
   "metadata": {},
   "source": [
    "### Question 10c (2 pts)\n",
    "- Print the linear regression coefficient(s) in the linear regression object in each fitted model\n",
    "- Print the linear regression Y intercept in the linear regression object in each fitted model"
   ]
  },
  {
   "cell_type": "code",
   "execution_count": 34,
   "metadata": {},
   "outputs": [
    {
     "name": "stdout",
     "output_type": "stream",
     "text": [
      "Linear regression Y intercept =  -342.78308425844295\n",
      "Linear Regression coefficient =  [1.0388035203804311]\n"
     ]
    }
   ],
   "source": [
    "# your code here\n",
    "print('Linear regression Y intercept = ',fitted_global_warm_pipe.stages[1].intercept)\n",
    "print('Linear Regression coefficient = ',fitted_global_warm_pipe.stages[1].coefficients)"
   ]
  },
  {
   "cell_type": "code",
   "execution_count": 35,
   "metadata": {},
   "outputs": [
    {
     "name": "stdout",
     "output_type": "stream",
     "text": [
      "Linear regression Y intercept for all variables except Year =  -1136.728962684678\n",
      "Linear regression coefficients for all variables except Year =  [0.8416578548749342,159.43928385390151,0.5357825425921865,-1.986329579754835]\n"
     ]
    }
   ],
   "source": [
    "print('Linear regression Y intercept for all variables except Year = ',fitted_global_warm_pipe_2.stages[1].intercept)\n",
    "print('Linear regression coefficients for all variables except Year = ',fitted_global_warm_pipe_2.stages[1].coefficients)"
   ]
  },
  {
   "cell_type": "markdown",
   "metadata": {},
   "source": [
    "##### Grading Feedback Cell"
   ]
  },
  {
   "cell_type": "markdown",
   "metadata": {},
   "source": [
    "### Question 11 Test the linear regression pipeline (10 pts)"
   ]
  },
  {
   "cell_type": "markdown",
   "metadata": {},
   "source": [
    "### Question 11a (5 pts)\n",
    "- Compute mean squared error (MSE) using the transform method on each fitted model.\n",
    "- Print the resulting MSEs."
   ]
  },
  {
   "cell_type": "code",
   "execution_count": 36,
   "metadata": {},
   "outputs": [],
   "source": [
    "# your code here\n",
    "mse = fn.mean((fn.col('Temp') - fn.col('prediction'))**2).alias('mse')"
   ]
  },
  {
   "cell_type": "code",
   "execution_count": 37,
   "metadata": {},
   "outputs": [
    {
     "name": "stdout",
     "output_type": "stream",
     "text": [
      "MSE for only CO2 as independent variable\n",
      "+------------------+\n",
      "|               mse|\n",
      "+------------------+\n",
      "|103.52444226883516|\n",
      "+------------------+\n",
      "\n"
     ]
    }
   ],
   "source": [
    "print(\"MSE for only CO2 as independent variable\")\n",
    "fitted_global_warm_pipe.transform(gw_test).select(mse).show()"
   ]
  },
  {
   "cell_type": "code",
   "execution_count": 38,
   "metadata": {},
   "outputs": [
    {
     "name": "stdout",
     "output_type": "stream",
     "text": [
      "MSE for all variables except Year as independent variable\n",
      "+-----------------+\n",
      "|              mse|\n",
      "+-----------------+\n",
      "|97.11228539908862|\n",
      "+-----------------+\n",
      "\n"
     ]
    }
   ],
   "source": [
    "print(\"MSE for all variables except Year as independent variable\")\n",
    "fitted_global_warm_pipe_2.transform(gw_test).select(mse).show()"
   ]
  },
  {
   "cell_type": "markdown",
   "metadata": {},
   "source": [
    "##### Grading Feedback Cell"
   ]
  },
  {
   "cell_type": "markdown",
   "metadata": {},
   "source": [
    "### Question 11b (5 pts)\n",
    "- Which of the 2 models have higher performance.  In the cell below, describe why you think the better performing model made the model perform better."
   ]
  },
  {
   "cell_type": "markdown",
   "metadata": {},
   "source": [
    "The MSE for model where all the parameters except Year is taken as Independent Variables to predict Temp is lower. The difference in Predicted Value and the actual value is less when all the variables are included together. For this model, the effect of all independent variables on Temp is predicted rather than using only 1 or combination of 1 with Temp on a repetative basis. This model captures the effect all variables together as a whole not isolating one from another. This model which has many independent variables has a low variance in terms of distance between the actual and predicted values is less. So this model is better as it accounts for all factors and the MSE is also lower."
   ]
  },
  {
   "cell_type": "markdown",
   "metadata": {},
   "source": [
    "### Question 12 Inference (10 pts)"
   ]
  },
  {
   "cell_type": "markdown",
   "metadata": {},
   "source": [
    "### Question 12a Data Scaling (5 pts)\n",
    "Add data scaling to fitted_global_warm_pipe_2 above. Name the resulting fitted model fitted_global_warm_pipe_3.  Print the resulting fitted model coefficients such that each coefficient is clearly labeled with it's corresponding feature name."
   ]
  },
  {
   "cell_type": "code",
   "execution_count": 39,
   "metadata": {},
   "outputs": [],
   "source": [
    "# your code here\n",
    "\n",
    "va = feature.VectorAssembler(inputCols=['CO2', 'Transmission', 'Solar','IceShelf'], outputCol='features')\n",
    "sc = feature.StandardScaler(withMean=True,withStd=True, inputCol='features',outputCol='scaled_features')\n",
    "lr = regression.LinearRegression(featuresCol='scaled_features',labelCol='Temp')\n",
    "fitted_global_warm_pipe_3 = Pipeline(stages=[va, sc, lr]).fit(gw_train)"
   ]
  },
  {
   "cell_type": "code",
   "execution_count": 40,
   "metadata": {},
   "outputs": [
    {
     "name": "stdout",
     "output_type": "stream",
     "text": [
      "+----+----+------+-------+------------+--------+--------------------+--------------------+------------------+\n",
      "|Year|Temp|   CO2|  Solar|Transmission|IceShelf|            features|     scaled_features|        prediction|\n",
      "+----+----+------+-------+------------+--------+--------------------+--------------------+------------------+\n",
      "|1980|  19|338.57|1366.51| 0.929666667|    7.85|[338.57,0.9296666...|[-1.5539672270010...| 13.01603992590881|\n",
      "|1981|  26|339.92|1366.51| 0.929766667|    7.25|[339.92,0.9297666...|[-1.4680110602483...|15.360019706168764|\n",
      "|1983|  25|342.71|1366.18| 0.897716667|    7.52|[342.71,0.8977166...|[-1.2903683156261...|11.885098848807349|\n",
      "|1984|   9|344.24|1365.71| 0.916491667|    7.17|[344.24,0.9164916...|[-1.1929513266397...| 16.60970547999062|\n",
      "|1985|   4|345.81|1365.57|    0.924425|    6.93|[345.81,0.924425,...|[-1.0929874882680...|19.597702787655553|\n",
      "|1986|  12|347.11|1365.59| 0.926791667|    7.54|[347.11,0.9267916...|[-1.0102148832469...|19.868252297691207|\n",
      "|1994|  23|358.14|1365.69| 0.924691667|    7.18|[358.14,0.9246916...|[-0.3079211652601...| 29.58557284313224|\n",
      "|1997|  39|363.18|1365.65|    0.930975|    6.74|[363.18,0.930975,...|[0.01298185728322...| 35.68189225868901|\n",
      "|1998|  56|365.19|1365.98|    0.932125|    6.56|[365.19,0.932125,...|[0.14096103889279...| 38.09132728600116|\n",
      "|1999|  31|367.86|1366.18| 0.929616667|    6.24|[367.86,0.9296166...|[0.31096323535922...| 40.68140891480612|\n",
      "|2002|  56|372.01|1366.39|    0.930875|    5.96|[372.01,0.930875,...|[0.57519885908046...| 45.04360334052795|\n",
      "|2003|  55|374.45|1365.92| 0.930141667|    6.15|[374.45,0.9301416...|[0.73055667158162...| 46.35110600385255|\n",
      "|2004|  48|376.77| 1365.7| 0.929866667|    6.05|[376.77,0.9298666...|[0.87827393592699...| 48.34066722309963|\n",
      "|2006|  55|380.83|1365.44| 0.928041667|    5.92|[380.83,0.9280416...|[1.13677914853138...| 51.58574080555911|\n",
      "+----+----+------+-------+------------+--------+--------------------+--------------------+------------------+\n",
      "\n"
     ]
    }
   ],
   "source": [
    "fitted_global_warm_pipe_3.transform(gw_test).show()"
   ]
  },
  {
   "cell_type": "code",
   "execution_count": 41,
   "metadata": {},
   "outputs": [
    {
     "name": "stdout",
     "output_type": "stream",
     "text": [
      "Scaled_data_pipeline_intercept = 34.27777777777777\n",
      "Scaled_data_pipeline_CO2_slope_coefficients = 13.21880845723335\n",
      "Scaled_data_pipeline_Transmission_slope_coefficients = 3.888949613731317\n",
      "Scaled_data_pipeline_Solar_slope_coefficients = 0.24195334026979165\n",
      "Scaled_data_pipeline_IceShelf_slope_coefficients = -2.136427295105882\n"
     ]
    }
   ],
   "source": [
    "print(\"Scaled_data_pipeline_intercept = {}\".format(fitted_global_warm_pipe_3.stages[-1].intercept))\n",
    "print(\"Scaled_data_pipeline_CO2_slope_coefficients = {}\".format(fitted_global_warm_pipe_3.stages[-1].coefficients[0]))\n",
    "print(\"Scaled_data_pipeline_Transmission_slope_coefficients = {}\".format(fitted_global_warm_pipe_3.stages[-1].coefficients[1]))\n",
    "print(\"Scaled_data_pipeline_Solar_slope_coefficients = {}\".format(fitted_global_warm_pipe_3.stages[-1].coefficients[2]))\n",
    "print(\"Scaled_data_pipeline_IceShelf_slope_coefficients = {}\".format(fitted_global_warm_pipe_3.stages[-1].coefficients[3]))"
   ]
  },
  {
   "cell_type": "markdown",
   "metadata": {},
   "source": [
    "### Question 12b Inference (5 pts)  \n",
    "Use the coefficients printed above to gain insights into the global warming problem. Describe your inference conclusions in the cell below."
   ]
  },
  {
   "cell_type": "markdown",
   "metadata": {},
   "source": [
    "Coefficient inference conclusions here: The StandardScaler is used to normalize the feature coefficients. StandardScaler is required to bring all the coefficients to the same scale for the model to perform better for feature with variety of scales. Without Scaling, the model may treat variables with higher coefficients to be more important only because the value of coefficient is very large. So standard scaler scales data to use Standard Deviation and Mean of the data using withMean and withStd True in hand. The Values of intercept and slope coefficients for the multiple regression models with StandardScaler has coefficients in the same range for all variables which was not the case earlier, one was in 1000's,one in 100's and others in 1's or 10's. Earlier intercept was -16819 which after scaling came to 32 and all the variables slope coefficients also came in the same range. The intercept along with all the slope coefficients of all independent variables except Year are positive and in the same direction which means increase in any of these independent variables would result in increase in the Temperature. When all the variables are set to 0, the temperature is 32. Increase in 1 unit of CO2 will result in increase in temperature by 18 units keeping all the other independent variables constant.Increase in 1 unit of Transmission will result in increase in temperature by 2 units keeping all the other independent variables constant. Increase in 1 unit of Solar will result in increase in temperature by 4.5 units keeping all the other independent variables constant. Increase in 1 unit of IceShelf will result in increase in temperature by 2 units keeping all the other independent variables constant."
   ]
  },
  {
   "cell_type": "markdown",
   "metadata": {},
   "source": [
    "##### Grading Feedback Cell\n",
    "-1: Increase in 1 unit of IceShelf will result in a decrease in temperature by 2 units keeping all the other independent variables constant."
   ]
  },
  {
   "cell_type": "markdown",
   "metadata": {},
   "source": [
    "# Question 13 Extra Credit (10 pts)\n",
    "This question is optional.  No points will be deducted from your score if you do not attempt this problem.<br>\n",
    "\n",
    "Starting with the rdd class presented in lecture (maintaining all class method names), implement a my_reduce method in the rdd class.  Your implementation shall maintain rdd class immutability.  Your my_reduce method return type should be consistent with the return type in the real Spark reduce method. Do some research and see what the Spark reduce return type would be.  <br>\n",
    "\n",
    "Implement a function named times_3 which returns its input multiplied by 3. Implement a function named is_even that returns true if it's input is even, false otherwise.  Implement a my_sum function that returns the sum of its 2 inputs.  <br>\n",
    "\n",
    "Your overall implementation should not rely on receiving specific data types as inputs.  For example, the plus operator works on more than just ints and floats."
   ]
  },
  {
   "cell_type": "code",
   "execution_count": 42,
   "metadata": {},
   "outputs": [],
   "source": [
    "# your code here\n",
    "import numpy as np\n",
    "\n",
    "# define our own simple as possible rdd class\n",
    "class rdd:\n",
    "    def __init__(self, arg_array):\n",
    "        self.local_array = arg_array\n",
    "    \n",
    "    # define our own map function\n",
    "    def my_map(self, fun):\n",
    "        if len(self.local_array) < 1:\n",
    "            raise Exception(\"my_map: len(local_array) < 1\")\n",
    "        \n",
    "        # create a new numpy array to hold the result\n",
    "        # remember that rdd's are supposed to be immutable\n",
    "        mapped = []\n",
    "        \n",
    "        # for each element in the local array\n",
    "        for i, el in enumerate(self.local_array):\n",
    "            # execute the user defined function on this element\n",
    "            \n",
    "            mapped.extend([fun(self.local_array[i])])\n",
    "            \n",
    "        # This is the key to how the data is passed.  The return value is another rdd object!\n",
    "        # The fact that we are returning a new rdd is the key to how chaining works\n",
    "        # create a new rdd using the array created by applying the user defined function\n",
    "        return rdd(mapped)\n",
    "    \n",
    "    def my_filter(self, fun):\n",
    "        # create a temporary list to store the filtered results\n",
    "        transformed = []\n",
    "\n",
    "        for el in self.local_array:\n",
    "            if fun(el):\n",
    "                transformed.append(el)\n",
    "                \n",
    "        return rdd(np.array(transformed))\n",
    "    \n",
    "    def my_reduce(self,fun):\n",
    "        if len(self.local_array) < 1:\n",
    "            raise Exception(\"my_map: len(local_array) < 1\")\n",
    "            \n",
    "        \n",
    "        result_arr = self.local_array[0]\n",
    "        i=1\n",
    "        while(i<len(self.local_array)):\n",
    "            result_arr = fun(result_arr,self.local_array[i])\n",
    "            i +=1\n",
    "        \n",
    "        return result_arr\n",
    "    \n",
    "    def collect(self):\n",
    "        return self.local_array\n",
    "\n",
    "def times_3(e):\n",
    "    return e*3\n",
    "\n",
    "def is_even(e):\n",
    "    if e % 2 == 0:\n",
    "        return True\n",
    "    else:\n",
    "        return False\n",
    "\n",
    "def my_sum(e1,e2):\n",
    "    return e1+e2"
   ]
  },
  {
   "cell_type": "code",
   "execution_count": 43,
   "metadata": {
    "scrolled": true
   },
   "outputs": [
    {
     "name": "stdout",
     "output_type": "stream",
     "text": [
      "<class 'numpy.int64'>\n",
      "7350\n"
     ]
    }
   ],
   "source": [
    "# Simple test code\n",
    "test_rdd = rdd(np.arange(100))\n",
    "result = test_rdd.my_map(times_3).my_filter(is_even).my_reduce(my_sum)\n",
    "print(type(result))\n",
    "print(result)\n",
    "# secret grading test code follows\n"
   ]
  },
  {
   "cell_type": "markdown",
   "metadata": {},
   "source": [
    "##### Grading Feedback Cell"
   ]
  }
 ],
 "metadata": {
  "celltoolbar": "Edit Metadata",
  "kernelspec": {
   "display_name": "Python 3",
   "language": "python",
   "name": "python3"
  },
  "language_info": {
   "codemirror_mode": {
    "name": "ipython",
    "version": 3
   },
   "file_extension": ".py",
   "mimetype": "text/x-python",
   "name": "python",
   "nbconvert_exporter": "python",
   "pygments_lexer": "ipython3",
   "version": "3.7.3"
  }
 },
 "nbformat": 4,
 "nbformat_minor": 2
}
